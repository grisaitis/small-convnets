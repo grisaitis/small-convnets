{
 "cells": [
  {
   "cell_type": "markdown",
   "metadata": {},
   "source": [
    "### Links\n",
    "- PyTorch MNIST example - https://github.com/pytorch/examples/tree/master/mnist\n",
    "- pytorch cifar10 code - https://github.com/kuangliu/pytorch-cifar/blob/master/main.py\n",
    "- LeNet for CIFAR-10 - https://github.com/kuangliu/pytorch-cifar/blob/master/models/lenet.py\n",
    "\n",
    "My Google Doc - https://docs.google.com/document/d/1nPvFULraomLmBp4IuNVe51YXV1DQsSzgQWtuaZhbkjo/edit\n",
    "Trello - https://docs.google.com/document/d/1nPvFULraomLmBp4IuNVe51YXV1DQsSzgQWtuaZhbkjo/edit\n",
    "Using webcam - https://docs.google.com/document/d/17BVx5yioNaV11mip4U9gRAO7wLIJf-aOpIITJPjqeks/edit#\n",
    "Installing pytorch - https://docs.google.com/document/d/1NfLbuhoOxonzS9FEeooyqpB90-62Gat-uZ2DOTaWRdg/edit#\n"
   ]
  },
  {
   "cell_type": "code",
   "execution_count": 1,
   "metadata": {},
   "outputs": [],
   "source": [
    "# import sys\n",
    "# sys.path.append(\"./kindling/\")\n",
    "# import kindling"
   ]
  },
  {
   "cell_type": "code",
   "execution_count": 2,
   "metadata": {},
   "outputs": [],
   "source": [
    "import argparse\n",
    "\n",
    "# from kindling.nan_police import torch\n",
    "import torch\n",
    "import torch.nn as nn\n",
    "import torch.nn.functional as F\n",
    "import torch.optim as optim\n",
    "from torchvision import datasets, transforms"
   ]
  },
  {
   "cell_type": "code",
   "execution_count": 3,
   "metadata": {},
   "outputs": [
    {
     "name": "stdout",
     "output_type": "stream",
     "text": [
      "1.0.1.post2\n",
      "/Users/william/.local/share/virtualenvs/william-oBc2a6gD/lib/python3.7/site-packages/torch/__init__.py\n"
     ]
    }
   ],
   "source": [
    "print(torch.__version__)\n",
    "print(torch.__file__)"
   ]
  },
  {
   "cell_type": "code",
   "execution_count": 4,
   "metadata": {},
   "outputs": [],
   "source": [
    "class Net(nn.Module):\n",
    "    def __init__(self):\n",
    "        super(Net, self).__init__()\n",
    "        self.conv1 = nn.Conv2d(1, 6, 5)  # in_channels, out_channels, kernel_size\n",
    "        self.conv2 = nn.Conv2d(6, 16, 5)\n",
    "        self.fc1   = nn.Linear(16*4*4, 120)  # in_features, out_features\n",
    "        self.fc2   = nn.Linear(120, 84)\n",
    "        self.fc3   = nn.Linear(84, 10)\n",
    "\n",
    "    def forward(self, x):\n",
    "        assert not torch.isnan(x).any().data, x\n",
    "#         print(x.shape)\n",
    "        out = F.relu(self.conv1(x))  # input\n",
    "#         print(\"F.relu(self.conv1(x)):\", out.shape)\n",
    "        out = F.max_pool2d(out, 2)  # input, kernel_size\n",
    "        assert not torch.isnan(out).any().data, out\n",
    "#         print(\"F.max_pool2d(out, 2):\", out.shape)\n",
    "        out = F.relu(self.conv2(out))\n",
    "        assert not torch.isnan(out).any().data, out\n",
    "#         print(\"F.relu(self.conv2(out)):\", out.shape)\n",
    "        out = F.max_pool2d(out, 2)\n",
    "        assert not torch.isnan(out).any().data, out\n",
    "#         print(\"F.max_pool2d(out, 2):\", out.shape)\n",
    "        out = out.view(out.size(0), -1)  # collapse \n",
    "        assert not torch.isnan(out).any().data, out\n",
    "#         print(\"out.view(out.size(0), -1):\", out.shape)\n",
    "        out = F.relu(self.fc1(out))\n",
    "        assert not torch.isnan(out).any().data, out\n",
    "#         print(\"F.relu(self.fc1(out)):\", out.shape)\n",
    "        out = F.relu(self.fc2(out))\n",
    "        assert not torch.isnan(out).any().data, out\n",
    "#         print(\"F.relu(self.fc2(out))\", out.shape)\n",
    "        out = self.fc3(out)\n",
    "#         print(\"self.fc3(out)\", out.shape)\n",
    "        assert not torch.isnan(out).any().data, out\n",
    "        return out\n"
   ]
  },
  {
   "cell_type": "code",
   "execution_count": 5,
   "metadata": {},
   "outputs": [
    {
     "data": {
      "text/plain": [
       "_StoreTrueAction(option_strings=['--save-model'], dest='save_model', nargs=0, const=True, default=False, type=None, choices=None, help='For Saving the current Model', metavar=None)"
      ]
     },
     "execution_count": 5,
     "metadata": {},
     "output_type": "execute_result"
    }
   ],
   "source": [
    "parser = argparse.ArgumentParser(description='PyTorch MNIST Example')\n",
    "parser.add_argument('--batch-size', type=int, default=64, metavar='N',\n",
    "                    help='input batch size for training (default: 64)')\n",
    "parser.add_argument('--test-batch-size', type=int, default=1000, metavar='N',\n",
    "                    help='input batch size for testing (default: 1000)')\n",
    "parser.add_argument('--epochs', type=int, default=10, metavar='N',\n",
    "                    help='number of epochs to train (default: 10)')\n",
    "parser.add_argument('--lr', type=float, default=0.0001, metavar='LR',\n",
    "                    help='learning rate (default: 0.01)')\n",
    "parser.add_argument('--momentum', type=float, default=0.5, metavar='M',\n",
    "                    help='SGD momentum (default: 0.5)')\n",
    "parser.add_argument('--no-cuda', action='store_true', default=False,\n",
    "                    help='disables CUDA training')\n",
    "parser.add_argument('--seed', type=int, default=1, metavar='S',\n",
    "                    help='random seed (default: 1)')\n",
    "parser.add_argument('--log-interval', type=int, default=10, metavar='N',\n",
    "                    help='how many batches to wait before logging training status')\n",
    "parser.add_argument('--save-model', action='store_true', default=False,\n",
    "                    help='For Saving the current Model')\n"
   ]
  },
  {
   "cell_type": "code",
   "execution_count": 6,
   "metadata": {},
   "outputs": [
    {
     "data": {
      "text/plain": [
       "Namespace(batch_size=64, epochs=10, log_interval=10, lr=0.0001, momentum=0.5, no_cuda=False, save_model=False, seed=1, test_batch_size=1000)"
      ]
     },
     "execution_count": 6,
     "metadata": {},
     "output_type": "execute_result"
    }
   ],
   "source": [
    "args = parser.parse_args(\"\")\n",
    "args"
   ]
  },
  {
   "cell_type": "code",
   "execution_count": 7,
   "metadata": {},
   "outputs": [
    {
     "data": {
      "text/plain": [
       "False"
      ]
     },
     "execution_count": 7,
     "metadata": {},
     "output_type": "execute_result"
    }
   ],
   "source": [
    "use_cuda = not args.no_cuda and torch.cuda.is_available()\n",
    "use_cuda"
   ]
  },
  {
   "cell_type": "code",
   "execution_count": 8,
   "metadata": {},
   "outputs": [
    {
     "data": {
      "text/plain": [
       "<torch._C.Generator at 0x10ff5b1f0>"
      ]
     },
     "execution_count": 8,
     "metadata": {},
     "output_type": "execute_result"
    }
   ],
   "source": [
    "torch.manual_seed(args.seed)"
   ]
  },
  {
   "cell_type": "code",
   "execution_count": 9,
   "metadata": {},
   "outputs": [
    {
     "data": {
      "text/plain": [
       "device(type='cpu')"
      ]
     },
     "execution_count": 9,
     "metadata": {},
     "output_type": "execute_result"
    }
   ],
   "source": [
    "device = torch.device(\"cuda\" if use_cuda else \"cpu\")\n",
    "device"
   ]
  },
  {
   "cell_type": "code",
   "execution_count": 10,
   "metadata": {},
   "outputs": [
    {
     "data": {
      "text/plain": [
       "{}"
      ]
     },
     "execution_count": 10,
     "metadata": {},
     "output_type": "execute_result"
    }
   ],
   "source": [
    "kwargs = {'num_workers': 1, 'pin_memory': True} if use_cuda else {}\n",
    "kwargs"
   ]
  },
  {
   "cell_type": "code",
   "execution_count": 11,
   "metadata": {},
   "outputs": [],
   "source": [
    "train_loader = torch.utils.data.DataLoader(\n",
    "    datasets.MNIST('../data', train=True, download=True,\n",
    "                   transform=transforms.Compose([\n",
    "                       transforms.ToTensor(),\n",
    "                       transforms.Normalize((0.1307,), (0.3081,))\n",
    "                   ])),\n",
    "    batch_size=args.batch_size, shuffle=True, **kwargs)\n"
   ]
  },
  {
   "cell_type": "code",
   "execution_count": 12,
   "metadata": {},
   "outputs": [
    {
     "data": {
      "text/plain": [
       "Net(\n",
       "  (conv1): Conv2d(1, 6, kernel_size=(5, 5), stride=(1, 1))\n",
       "  (conv2): Conv2d(6, 16, kernel_size=(5, 5), stride=(1, 1))\n",
       "  (fc1): Linear(in_features=256, out_features=120, bias=True)\n",
       "  (fc2): Linear(in_features=120, out_features=84, bias=True)\n",
       "  (fc3): Linear(in_features=84, out_features=10, bias=True)\n",
       ")"
      ]
     },
     "execution_count": 12,
     "metadata": {},
     "output_type": "execute_result"
    }
   ],
   "source": [
    "model = Net().to(device)\n",
    "model"
   ]
  },
  {
   "cell_type": "code",
   "execution_count": 13,
   "metadata": {},
   "outputs": [
    {
     "data": {
      "text/plain": [
       "SGD (\n",
       "Parameter Group 0\n",
       "    dampening: 0\n",
       "    lr: 0.0001\n",
       "    momentum: 0.5\n",
       "    nesterov: False\n",
       "    weight_decay: 0\n",
       ")"
      ]
     },
     "execution_count": 13,
     "metadata": {},
     "output_type": "execute_result"
    }
   ],
   "source": [
    "optimizer = optim.SGD(model.parameters(), lr=args.lr, momentum=args.momentum)\n",
    "optimizer"
   ]
  },
  {
   "cell_type": "code",
   "execution_count": 14,
   "metadata": {},
   "outputs": [],
   "source": [
    "def train(args, model, device, train_loader, optimizer, epoch):\n",
    "    model.train()\n",
    "    for batch_idx, (data, target) in enumerate(train_loader):\n",
    "#         print(data.shape, model)\n",
    "        data, target = data.to(device), target.to(device)  # to do: needed?\n",
    "        optimizer.zero_grad()  # what does this do? zero-out any previous gradient info?\n",
    "        output = model(data)\n",
    "        loss = F.nll_loss(output, target)\n",
    "        loss.backward()\n",
    "        optimizer.step()\n",
    "        if batch_idx % args.log_interval == 0:\n",
    "            print('Train Epoch: {} [{}/{} ({:.0f}%)]\\tLoss: {:.6f}'.format(\n",
    "                epoch, batch_idx * len(data), len(train_loader.dataset),\n",
    "                100. * batch_idx / len(train_loader), loss.item()))\n"
   ]
  },
  {
   "cell_type": "code",
   "execution_count": 20,
   "metadata": {},
   "outputs": [
    {
     "name": "stdout",
     "output_type": "stream",
     "text": [
      "Train Epoch: 0 [0/60000 (0%)]\tLoss: -0.051788\n",
      "Train Epoch: 0 [640/60000 (1%)]\tLoss: -0.036460\n",
      "Train Epoch: 0 [1280/60000 (2%)]\tLoss: -0.047059\n",
      "Train Epoch: 0 [1920/60000 (3%)]\tLoss: -0.044716\n",
      "Train Epoch: 0 [2560/60000 (4%)]\tLoss: -0.023716\n",
      "Train Epoch: 0 [3200/60000 (5%)]\tLoss: -0.035820\n",
      "Train Epoch: 0 [3840/60000 (6%)]\tLoss: -0.068132\n",
      "Train Epoch: 0 [4480/60000 (7%)]\tLoss: -0.038999\n",
      "Train Epoch: 0 [5120/60000 (9%)]\tLoss: -0.055866\n",
      "Train Epoch: 0 [5760/60000 (10%)]\tLoss: -0.045284\n",
      "Train Epoch: 0 [6400/60000 (11%)]\tLoss: -0.053773\n",
      "Train Epoch: 0 [7040/60000 (12%)]\tLoss: -0.048151\n",
      "Train Epoch: 0 [7680/60000 (13%)]\tLoss: -0.058392\n",
      "Train Epoch: 0 [8320/60000 (14%)]\tLoss: -0.047568\n",
      "Train Epoch: 0 [8960/60000 (15%)]\tLoss: -0.041861\n",
      "Train Epoch: 0 [9600/60000 (16%)]\tLoss: -0.067079\n",
      "Train Epoch: 0 [10240/60000 (17%)]\tLoss: -0.050545\n",
      "Train Epoch: 0 [10880/60000 (18%)]\tLoss: -0.062165\n",
      "Train Epoch: 0 [11520/60000 (19%)]\tLoss: -0.050176\n",
      "Train Epoch: 0 [12160/60000 (20%)]\tLoss: -0.047270\n",
      "Train Epoch: 0 [12800/60000 (21%)]\tLoss: -0.048503\n",
      "Train Epoch: 0 [13440/60000 (22%)]\tLoss: -0.057911\n",
      "Train Epoch: 0 [14080/60000 (23%)]\tLoss: -0.051049\n",
      "Train Epoch: 0 [14720/60000 (25%)]\tLoss: -0.056058\n",
      "Train Epoch: 0 [15360/60000 (26%)]\tLoss: -0.051893\n",
      "Train Epoch: 0 [16000/60000 (27%)]\tLoss: -0.049003\n",
      "Train Epoch: 0 [16640/60000 (28%)]\tLoss: -0.059289\n",
      "Train Epoch: 0 [17280/60000 (29%)]\tLoss: -0.057353\n",
      "Train Epoch: 0 [17920/60000 (30%)]\tLoss: -0.064281\n",
      "Train Epoch: 0 [18560/60000 (31%)]\tLoss: -0.071486\n",
      "Train Epoch: 0 [19200/60000 (32%)]\tLoss: -0.067200\n",
      "Train Epoch: 0 [19840/60000 (33%)]\tLoss: -0.073640\n",
      "Train Epoch: 0 [20480/60000 (34%)]\tLoss: -0.061796\n",
      "Train Epoch: 0 [21120/60000 (35%)]\tLoss: -0.069782\n",
      "Train Epoch: 0 [21760/60000 (36%)]\tLoss: -0.062799\n",
      "Train Epoch: 0 [22400/60000 (37%)]\tLoss: -0.073937\n",
      "Train Epoch: 0 [23040/60000 (38%)]\tLoss: -0.070032\n",
      "Train Epoch: 0 [23680/60000 (39%)]\tLoss: -0.056485\n",
      "Train Epoch: 0 [24320/60000 (41%)]\tLoss: -0.064432\n",
      "Train Epoch: 0 [24960/60000 (42%)]\tLoss: -0.093427\n",
      "Train Epoch: 0 [25600/60000 (43%)]\tLoss: -0.065471\n",
      "Train Epoch: 0 [26240/60000 (44%)]\tLoss: -0.058572\n",
      "Train Epoch: 0 [26880/60000 (45%)]\tLoss: -0.076116\n",
      "Train Epoch: 0 [27520/60000 (46%)]\tLoss: -0.073192\n",
      "Train Epoch: 0 [28160/60000 (47%)]\tLoss: -0.066117\n",
      "Train Epoch: 0 [28800/60000 (48%)]\tLoss: -0.083851\n",
      "Train Epoch: 0 [29440/60000 (49%)]\tLoss: -0.079967\n",
      "Train Epoch: 0 [30080/60000 (50%)]\tLoss: -0.064932\n",
      "Train Epoch: 0 [30720/60000 (51%)]\tLoss: -0.086691\n",
      "Train Epoch: 0 [31360/60000 (52%)]\tLoss: -0.063842\n",
      "Train Epoch: 0 [32000/60000 (53%)]\tLoss: -0.087182\n",
      "Train Epoch: 0 [32640/60000 (54%)]\tLoss: -0.101790\n",
      "Train Epoch: 0 [33280/60000 (55%)]\tLoss: -0.081939\n",
      "Train Epoch: 0 [33920/60000 (57%)]\tLoss: -0.104602\n",
      "Train Epoch: 0 [34560/60000 (58%)]\tLoss: -0.107006\n",
      "Train Epoch: 0 [35200/60000 (59%)]\tLoss: -0.087451\n",
      "Train Epoch: 0 [35840/60000 (60%)]\tLoss: -0.078716\n",
      "Train Epoch: 0 [36480/60000 (61%)]\tLoss: -0.115854\n",
      "Train Epoch: 0 [37120/60000 (62%)]\tLoss: -0.100043\n",
      "Train Epoch: 0 [37760/60000 (63%)]\tLoss: -0.085698\n",
      "Train Epoch: 0 [38400/60000 (64%)]\tLoss: -0.092101\n",
      "Train Epoch: 0 [39040/60000 (65%)]\tLoss: -0.100675\n",
      "Train Epoch: 0 [39680/60000 (66%)]\tLoss: -0.102808\n",
      "Train Epoch: 0 [40320/60000 (67%)]\tLoss: -0.076938\n",
      "Train Epoch: 0 [40960/60000 (68%)]\tLoss: -0.097078\n",
      "Train Epoch: 0 [41600/60000 (69%)]\tLoss: -0.103905\n",
      "Train Epoch: 0 [42240/60000 (70%)]\tLoss: -0.090472\n",
      "Train Epoch: 0 [42880/60000 (71%)]\tLoss: -0.105739\n",
      "Train Epoch: 0 [43520/60000 (72%)]\tLoss: -0.112995\n",
      "Train Epoch: 0 [44160/60000 (74%)]\tLoss: -0.093021\n",
      "Train Epoch: 0 [44800/60000 (75%)]\tLoss: -0.092078\n",
      "Train Epoch: 0 [45440/60000 (76%)]\tLoss: -0.107953\n",
      "Train Epoch: 0 [46080/60000 (77%)]\tLoss: -0.107544\n",
      "Train Epoch: 0 [46720/60000 (78%)]\tLoss: -0.121233\n",
      "Train Epoch: 0 [47360/60000 (79%)]\tLoss: -0.092266\n",
      "Train Epoch: 0 [48000/60000 (80%)]\tLoss: -0.102214\n",
      "Train Epoch: 0 [48640/60000 (81%)]\tLoss: -0.116525\n",
      "Train Epoch: 0 [49280/60000 (82%)]\tLoss: -0.115800\n",
      "Train Epoch: 0 [49920/60000 (83%)]\tLoss: -0.122253\n",
      "Train Epoch: 0 [50560/60000 (84%)]\tLoss: -0.121902\n",
      "Train Epoch: 0 [51200/60000 (85%)]\tLoss: -0.090324\n",
      "Train Epoch: 0 [51840/60000 (86%)]\tLoss: -0.098302\n",
      "Train Epoch: 0 [52480/60000 (87%)]\tLoss: -0.122779\n",
      "Train Epoch: 0 [53120/60000 (88%)]\tLoss: -0.114849\n",
      "Train Epoch: 0 [53760/60000 (90%)]\tLoss: -0.129207\n",
      "Train Epoch: 0 [54400/60000 (91%)]\tLoss: -0.125720\n",
      "Train Epoch: 0 [55040/60000 (92%)]\tLoss: -0.128204\n",
      "Train Epoch: 0 [55680/60000 (93%)]\tLoss: -0.122253\n",
      "Train Epoch: 0 [56320/60000 (94%)]\tLoss: -0.135905\n",
      "Train Epoch: 0 [56960/60000 (95%)]\tLoss: -0.131855\n",
      "Train Epoch: 0 [57600/60000 (96%)]\tLoss: -0.142739\n",
      "Train Epoch: 0 [58240/60000 (97%)]\tLoss: -0.110412\n",
      "Train Epoch: 0 [58880/60000 (98%)]\tLoss: -0.121759\n",
      "Train Epoch: 0 [59520/60000 (99%)]\tLoss: -0.132224\n",
      "Train Epoch: 1 [0/60000 (0%)]\tLoss: -0.121081\n",
      "Train Epoch: 1 [640/60000 (1%)]\tLoss: -0.139684\n",
      "Train Epoch: 1 [1280/60000 (2%)]\tLoss: -0.142561\n",
      "Train Epoch: 1 [1920/60000 (3%)]\tLoss: -0.133155\n",
      "Train Epoch: 1 [2560/60000 (4%)]\tLoss: -0.126708\n",
      "Train Epoch: 1 [3200/60000 (5%)]\tLoss: -0.142916\n",
      "Train Epoch: 1 [3840/60000 (6%)]\tLoss: -0.137620\n",
      "Train Epoch: 1 [4480/60000 (7%)]\tLoss: -0.148780\n",
      "Train Epoch: 1 [5120/60000 (9%)]\tLoss: -0.151226\n",
      "Train Epoch: 1 [5760/60000 (10%)]\tLoss: -0.154479\n",
      "Train Epoch: 1 [6400/60000 (11%)]\tLoss: -0.148744\n",
      "Train Epoch: 1 [7040/60000 (12%)]\tLoss: -0.170756\n",
      "Train Epoch: 1 [7680/60000 (13%)]\tLoss: -0.156559\n",
      "Train Epoch: 1 [8320/60000 (14%)]\tLoss: -0.181283\n",
      "Train Epoch: 1 [8960/60000 (15%)]\tLoss: -0.166120\n",
      "Train Epoch: 1 [9600/60000 (16%)]\tLoss: -0.159590\n",
      "Train Epoch: 1 [10240/60000 (17%)]\tLoss: -0.149809\n",
      "Train Epoch: 1 [10880/60000 (18%)]\tLoss: -0.171855\n",
      "Train Epoch: 1 [11520/60000 (19%)]\tLoss: -0.167846\n",
      "Train Epoch: 1 [12160/60000 (20%)]\tLoss: -0.169194\n",
      "Train Epoch: 1 [12800/60000 (21%)]\tLoss: -0.170575\n",
      "Train Epoch: 1 [13440/60000 (22%)]\tLoss: -0.174901\n",
      "Train Epoch: 1 [14080/60000 (23%)]\tLoss: -0.180873\n",
      "Train Epoch: 1 [14720/60000 (25%)]\tLoss: -0.178539\n",
      "Train Epoch: 1 [15360/60000 (26%)]\tLoss: -0.153509\n",
      "Train Epoch: 1 [16000/60000 (27%)]\tLoss: -0.175868\n",
      "Train Epoch: 1 [16640/60000 (28%)]\tLoss: -0.169603\n",
      "Train Epoch: 1 [17280/60000 (29%)]\tLoss: -0.209776\n",
      "Train Epoch: 1 [17920/60000 (30%)]\tLoss: -0.192661\n",
      "Train Epoch: 1 [18560/60000 (31%)]\tLoss: -0.184428\n",
      "Train Epoch: 1 [19200/60000 (32%)]\tLoss: -0.202642\n",
      "Train Epoch: 1 [19840/60000 (33%)]\tLoss: -0.193146\n",
      "Train Epoch: 1 [20480/60000 (34%)]\tLoss: -0.199528\n",
      "Train Epoch: 1 [21120/60000 (35%)]\tLoss: -0.207415\n",
      "Train Epoch: 1 [21760/60000 (36%)]\tLoss: -0.193696\n",
      "Train Epoch: 1 [22400/60000 (37%)]\tLoss: -0.213599\n",
      "Train Epoch: 1 [23040/60000 (38%)]\tLoss: -0.207389\n",
      "Train Epoch: 1 [23680/60000 (39%)]\tLoss: -0.218472\n",
      "Train Epoch: 1 [24320/60000 (41%)]\tLoss: -0.238772\n",
      "Train Epoch: 1 [24960/60000 (42%)]\tLoss: -0.240841\n",
      "Train Epoch: 1 [25600/60000 (43%)]\tLoss: -0.241994\n",
      "Train Epoch: 1 [26240/60000 (44%)]\tLoss: -0.222979\n",
      "Train Epoch: 1 [26880/60000 (45%)]\tLoss: -0.244512\n",
      "Train Epoch: 1 [27520/60000 (46%)]\tLoss: -0.246129\n",
      "Train Epoch: 1 [28160/60000 (47%)]\tLoss: -0.260805\n",
      "Train Epoch: 1 [28800/60000 (48%)]\tLoss: -0.228789\n",
      "Train Epoch: 1 [29440/60000 (49%)]\tLoss: -0.280138\n",
      "Train Epoch: 1 [30080/60000 (50%)]\tLoss: -0.265228\n",
      "Train Epoch: 1 [30720/60000 (51%)]\tLoss: -0.232480\n",
      "Train Epoch: 1 [31360/60000 (52%)]\tLoss: -0.231707\n",
      "Train Epoch: 1 [32000/60000 (53%)]\tLoss: -0.230931\n",
      "Train Epoch: 1 [32640/60000 (54%)]\tLoss: -0.285858\n",
      "Train Epoch: 1 [33280/60000 (55%)]\tLoss: -0.246491\n",
      "Train Epoch: 1 [33920/60000 (57%)]\tLoss: -0.278951\n",
      "Train Epoch: 1 [34560/60000 (58%)]\tLoss: -0.264973\n",
      "Train Epoch: 1 [35200/60000 (59%)]\tLoss: -0.289772\n",
      "Train Epoch: 1 [35840/60000 (60%)]\tLoss: -0.321251\n",
      "Train Epoch: 1 [36480/60000 (61%)]\tLoss: -0.297632\n",
      "Train Epoch: 1 [37120/60000 (62%)]\tLoss: -0.296892\n",
      "Train Epoch: 1 [37760/60000 (63%)]\tLoss: -0.293140\n",
      "Train Epoch: 1 [38400/60000 (64%)]\tLoss: -0.317581\n",
      "Train Epoch: 1 [39040/60000 (65%)]\tLoss: -0.293509\n",
      "Train Epoch: 1 [39680/60000 (66%)]\tLoss: -0.307919\n",
      "Train Epoch: 1 [40320/60000 (67%)]\tLoss: -0.321045\n",
      "Train Epoch: 1 [40960/60000 (68%)]\tLoss: -0.332504\n",
      "Train Epoch: 1 [41600/60000 (69%)]\tLoss: -0.296347\n",
      "Train Epoch: 1 [42240/60000 (70%)]\tLoss: -0.335822\n",
      "Train Epoch: 1 [42880/60000 (71%)]\tLoss: -0.345801\n"
     ]
    },
    {
     "name": "stdout",
     "output_type": "stream",
     "text": [
      "Train Epoch: 1 [43520/60000 (72%)]\tLoss: -0.330977\n",
      "Train Epoch: 1 [44160/60000 (74%)]\tLoss: -0.348281\n",
      "Train Epoch: 1 [44800/60000 (75%)]\tLoss: -0.346607\n",
      "Train Epoch: 1 [45440/60000 (76%)]\tLoss: -0.396115\n",
      "Train Epoch: 1 [46080/60000 (77%)]\tLoss: -0.389788\n",
      "Train Epoch: 1 [46720/60000 (78%)]\tLoss: -0.341415\n",
      "Train Epoch: 1 [47360/60000 (79%)]\tLoss: -0.411320\n",
      "Train Epoch: 1 [48000/60000 (80%)]\tLoss: -0.423823\n",
      "Train Epoch: 1 [48640/60000 (81%)]\tLoss: -0.433130\n",
      "Train Epoch: 1 [49280/60000 (82%)]\tLoss: -0.462599\n",
      "Train Epoch: 1 [49920/60000 (83%)]\tLoss: -0.400152\n",
      "Train Epoch: 1 [50560/60000 (84%)]\tLoss: -0.469406\n",
      "Train Epoch: 1 [51200/60000 (85%)]\tLoss: -0.379051\n",
      "Train Epoch: 1 [51840/60000 (86%)]\tLoss: -0.427316\n",
      "Train Epoch: 1 [52480/60000 (87%)]\tLoss: -0.471935\n",
      "Train Epoch: 1 [53120/60000 (88%)]\tLoss: -0.428361\n",
      "Train Epoch: 1 [53760/60000 (90%)]\tLoss: -0.496678\n",
      "Train Epoch: 1 [54400/60000 (91%)]\tLoss: -0.474983\n",
      "Train Epoch: 1 [55040/60000 (92%)]\tLoss: -0.550163\n",
      "Train Epoch: 1 [55680/60000 (93%)]\tLoss: -0.495800\n",
      "Train Epoch: 1 [56320/60000 (94%)]\tLoss: -0.529418\n",
      "Train Epoch: 1 [56960/60000 (95%)]\tLoss: -0.557271\n",
      "Train Epoch: 1 [57600/60000 (96%)]\tLoss: -0.536037\n",
      "Train Epoch: 1 [58240/60000 (97%)]\tLoss: -0.539615\n",
      "Train Epoch: 1 [58880/60000 (98%)]\tLoss: -0.578855\n",
      "Train Epoch: 1 [59520/60000 (99%)]\tLoss: -0.571460\n",
      "Train Epoch: 2 [0/60000 (0%)]\tLoss: -0.577872\n",
      "Train Epoch: 2 [640/60000 (1%)]\tLoss: -0.633864\n",
      "Train Epoch: 2 [1280/60000 (2%)]\tLoss: -0.632384\n",
      "Train Epoch: 2 [1920/60000 (3%)]\tLoss: -0.674081\n",
      "Train Epoch: 2 [2560/60000 (4%)]\tLoss: -0.686737\n",
      "Train Epoch: 2 [3200/60000 (5%)]\tLoss: -0.655353\n",
      "Train Epoch: 2 [3840/60000 (6%)]\tLoss: -0.723688\n",
      "Train Epoch: 2 [4480/60000 (7%)]\tLoss: -0.840614\n",
      "Train Epoch: 2 [5120/60000 (9%)]\tLoss: -0.822831\n",
      "Train Epoch: 2 [5760/60000 (10%)]\tLoss: -0.736157\n",
      "Train Epoch: 2 [6400/60000 (11%)]\tLoss: -0.733135\n",
      "Train Epoch: 2 [7040/60000 (12%)]\tLoss: -0.793073\n",
      "Train Epoch: 2 [7680/60000 (13%)]\tLoss: -0.965549\n",
      "Train Epoch: 2 [8320/60000 (14%)]\tLoss: -0.875864\n",
      "Train Epoch: 2 [8960/60000 (15%)]\tLoss: -0.907038\n",
      "Train Epoch: 2 [9600/60000 (16%)]\tLoss: -0.870035\n",
      "Train Epoch: 2 [10240/60000 (17%)]\tLoss: -1.009761\n",
      "Train Epoch: 2 [10880/60000 (18%)]\tLoss: -0.969449\n",
      "Train Epoch: 2 [11520/60000 (19%)]\tLoss: -1.099301\n",
      "Train Epoch: 2 [12160/60000 (20%)]\tLoss: -1.138626\n",
      "Train Epoch: 2 [12800/60000 (21%)]\tLoss: -1.077809\n",
      "Train Epoch: 2 [13440/60000 (22%)]\tLoss: -1.280639\n",
      "Train Epoch: 2 [14080/60000 (23%)]\tLoss: -1.283528\n",
      "Train Epoch: 2 [14720/60000 (25%)]\tLoss: -1.320321\n",
      "Train Epoch: 2 [15360/60000 (26%)]\tLoss: -1.341866\n",
      "Train Epoch: 2 [16000/60000 (27%)]\tLoss: -1.360648\n",
      "Train Epoch: 2 [16640/60000 (28%)]\tLoss: -1.364731\n",
      "Train Epoch: 2 [17280/60000 (29%)]\tLoss: -1.668529\n",
      "Train Epoch: 2 [17920/60000 (30%)]\tLoss: -1.597676\n",
      "Train Epoch: 2 [18560/60000 (31%)]\tLoss: -1.744150\n",
      "Train Epoch: 2 [19200/60000 (32%)]\tLoss: -1.798095\n",
      "Train Epoch: 2 [19840/60000 (33%)]\tLoss: -1.919893\n",
      "Train Epoch: 2 [20480/60000 (34%)]\tLoss: -2.019585\n",
      "Train Epoch: 2 [21120/60000 (35%)]\tLoss: -2.052217\n",
      "Train Epoch: 2 [21760/60000 (36%)]\tLoss: -2.234679\n",
      "Train Epoch: 2 [22400/60000 (37%)]\tLoss: -2.281425\n",
      "Train Epoch: 2 [23040/60000 (38%)]\tLoss: -2.584705\n",
      "Train Epoch: 2 [23680/60000 (39%)]\tLoss: -2.594013\n",
      "Train Epoch: 2 [24320/60000 (41%)]\tLoss: -2.618964\n",
      "Train Epoch: 2 [24960/60000 (42%)]\tLoss: -3.029071\n",
      "Train Epoch: 2 [25600/60000 (43%)]\tLoss: -3.206211\n",
      "Train Epoch: 2 [26240/60000 (44%)]\tLoss: -3.579316\n",
      "Train Epoch: 2 [26880/60000 (45%)]\tLoss: -3.827643\n",
      "Train Epoch: 2 [27520/60000 (46%)]\tLoss: -4.584742\n",
      "Train Epoch: 2 [28160/60000 (47%)]\tLoss: -4.695420\n",
      "Train Epoch: 2 [28800/60000 (48%)]\tLoss: -4.702660\n",
      "Train Epoch: 2 [29440/60000 (49%)]\tLoss: -5.637006\n",
      "Train Epoch: 2 [30080/60000 (50%)]\tLoss: -6.251128\n",
      "Train Epoch: 2 [30720/60000 (51%)]\tLoss: -6.860680\n",
      "Train Epoch: 2 [31360/60000 (52%)]\tLoss: -7.802568\n",
      "Train Epoch: 2 [32000/60000 (53%)]\tLoss: -9.424235\n",
      "Train Epoch: 2 [32640/60000 (54%)]\tLoss: -10.860312\n",
      "Train Epoch: 2 [33280/60000 (55%)]\tLoss: -11.601050\n",
      "Train Epoch: 2 [33920/60000 (57%)]\tLoss: -14.348639\n",
      "Train Epoch: 2 [34560/60000 (58%)]\tLoss: -16.781038\n",
      "Train Epoch: 2 [35200/60000 (59%)]\tLoss: -21.693457\n",
      "Train Epoch: 2 [35840/60000 (60%)]\tLoss: -26.259546\n",
      "Train Epoch: 2 [36480/60000 (61%)]\tLoss: -37.025284\n",
      "Train Epoch: 2 [37120/60000 (62%)]\tLoss: -46.793411\n",
      "Train Epoch: 2 [37760/60000 (63%)]\tLoss: -77.657959\n",
      "Train Epoch: 2 [38400/60000 (64%)]\tLoss: -137.076141\n",
      "Train Epoch: 2 [39040/60000 (65%)]\tLoss: -323.591522\n",
      "Train Epoch: 2 [39680/60000 (66%)]\tLoss: -1638.300049\n",
      "Train Epoch: 2 [40320/60000 (67%)]\tLoss: -126704420913152.000000\n"
     ]
    },
    {
     "ename": "AssertionError",
     "evalue": "tensor([[[[       inf,        inf,        inf,  ...,        inf,\n                  inf,        inf],\n          [       inf,        inf,        inf,  ...,        inf,\n                  inf,        inf],\n          [       inf,        inf,        inf,  ...,        inf,\n                  inf,        inf],\n          ...,\n          [       inf,        inf,        inf,  ...,        inf,\n                  inf,        inf],\n          [       inf,        inf,        inf,  ...,        inf,\n                  inf,        inf],\n          [       inf,        inf,        inf,  ...,        inf,\n                  inf,        inf]],\n\n         [[       inf,        inf,        inf,  ...,        inf,\n                  inf,        inf],\n          [       inf,        inf,        inf,  ...,        inf,\n                  inf,        inf],\n          [       inf,        inf,        inf,  ...,        inf,\n                  inf,        inf],\n          ...,\n          [       inf,        inf,        inf,  ...,        inf,\n                  inf,        inf],\n          [       inf,        inf,        inf,  ...,        inf,\n                  inf,        inf],\n          [       inf,        inf,        inf,  ...,        inf,\n                  inf,        inf]],\n\n         [[       inf,        inf,        inf,  ...,        inf,\n                  inf, 2.8911e+38],\n          [       inf,        inf, 2.3560e+38,  ...,        inf,\n                  inf,        inf],\n          [       inf,        inf, 0.0000e+00,  ...,        inf,\n                  inf,        inf],\n          ...,\n          [       inf,        inf,        inf,  ...,        inf,\n                  inf, 3.1583e+37],\n          [       inf,        inf,        inf,  ..., 2.3274e+38,\n           0.0000e+00, 0.0000e+00],\n          [2.0440e+38, 2.0399e+38, 1.0147e+38,  ..., 0.0000e+00,\n           0.0000e+00, 0.0000e+00]],\n\n         ...,\n\n         [[       inf,        inf,        inf,  ...,        inf,\n                  inf,        inf],\n          [       inf,        inf,        inf,  ...,        inf,\n                  inf,        inf],\n          [       inf,        inf,        inf,  ...,        inf,\n                  inf,        inf],\n          ...,\n          [       inf,        inf,        inf,  ...,        inf,\n                  inf,        inf],\n          [       inf,        inf,        inf,  ...,        inf,\n                  inf,        inf],\n          [       inf,        inf,        inf,  ...,        inf,\n                  inf,        inf]],\n\n         [[       inf,        inf,        inf,  ...,        inf,\n                  inf,        inf],\n          [       inf,        inf,        inf,  ...,        inf,\n                  inf,        inf],\n          [       inf,        inf,        inf,  ...,        inf,\n                  inf,        inf],\n          ...,\n          [       inf,        inf,        inf,  ...,        inf,\n                  inf,        inf],\n          [       inf,        inf,        inf,  ...,        inf,\n                  inf,        inf],\n          [       inf,        inf,        inf,  ...,        inf,\n                  inf,        inf]],\n\n         [[       inf,        inf,        inf,  ...,        inf,\n                  inf,        inf],\n          [       inf,        inf,        inf,  ...,        inf,\n                  inf,        inf],\n          [       inf,        inf,        inf,  ...,        inf,\n                  inf,        inf],\n          ...,\n          [       inf,        inf,        inf,  ...,        inf,\n                  inf,        inf],\n          [       inf,        inf,        inf,  ...,        inf,\n                  inf,        inf],\n          [       inf,        inf,        inf,  ...,        inf,\n                  inf,        inf]]],\n\n\n        [[[       inf,        inf,        inf,  ...,        inf,\n                  inf,        inf],\n          [       inf,        inf,        inf,  ...,        inf,\n                  inf,        inf],\n          [       inf,        inf,        inf,  ...,        inf,\n                  inf,        inf],\n          ...,\n          [       inf,        inf,        inf,  ...,        inf,\n                  inf,        inf],\n          [       inf,        inf,        inf,  ...,        inf,\n                  inf,        inf],\n          [       inf,        inf,        inf,  ...,        inf,\n                  inf,        inf]],\n\n         [[       inf,        inf,        inf,  ...,        inf,\n                  inf,        inf],\n          [       inf,        inf,        inf,  ...,        inf,\n                  inf,        inf],\n          [       inf,        inf,        inf,  ...,        inf,\n                  inf,        inf],\n          ...,\n          [       inf,        inf,        inf,  ...,        inf,\n                  inf,        inf],\n          [       inf,        inf,        inf,  ...,        inf,\n                  inf,        inf],\n          [       inf,        inf,        inf,  ...,        inf,\n                  inf,        inf]],\n\n         [[       inf,        inf,        inf,  ..., 1.3265e+38,\n           1.6466e+38, 8.5617e+37],\n          [       inf,        inf,        inf,  ..., 1.1352e+37,\n           0.0000e+00, 0.0000e+00],\n          [       inf,        inf,        inf,  ...,        inf,\n           2.2030e+37, 0.0000e+00],\n          ...,\n          [       inf,        inf,        inf,  ..., 2.3793e+38,\n           0.0000e+00, 0.0000e+00],\n          [       inf,        inf,        inf,  ..., 0.0000e+00,\n           0.0000e+00, 0.0000e+00],\n          [0.0000e+00, 0.0000e+00, 0.0000e+00,  ..., 0.0000e+00,\n           0.0000e+00, 0.0000e+00]],\n\n         ...,\n\n         [[       inf,        inf,        inf,  ...,        inf,\n                  inf,        inf],\n          [       inf,        inf,        inf,  ...,        inf,\n                  inf,        inf],\n          [       inf,        inf,        inf,  ...,        inf,\n                  inf,        inf],\n          ...,\n          [       inf,        inf,        inf,  ...,        inf,\n                  inf,        inf],\n          [       inf,        inf,        inf,  ...,        inf,\n                  inf,        inf],\n          [       inf,        inf,        inf,  ...,        inf,\n                  inf,        inf]],\n\n         [[       inf,        inf,        inf,  ...,        inf,\n                  inf,        inf],\n          [       inf,        inf,        inf,  ...,        inf,\n                  inf,        inf],\n          [       inf,        inf,        inf,  ...,        inf,\n                  inf,        inf],\n          ...,\n          [       inf,        inf,        inf,  ...,        inf,\n                  inf,        inf],\n          [       inf,        inf,        inf,  ...,        inf,\n                  inf,        inf],\n          [       inf,        inf,        inf,  ...,        inf,\n                  inf,        inf]],\n\n         [[       inf,        inf,        inf,  ...,        inf,\n                  inf,        inf],\n          [       inf,        inf,        inf,  ...,        inf,\n                  inf,        inf],\n          [       inf,        inf,        inf,  ...,        inf,\n                  inf,        inf],\n          ...,\n          [       inf,        inf,        inf,  ...,        inf,\n                  inf,        inf],\n          [       inf,        inf,        inf,  ...,        inf,\n                  inf,        inf],\n          [       inf,        inf,        inf,  ...,        inf,\n                  inf,        inf]]],\n\n\n        [[[       inf,        inf,        inf,  ...,        inf,\n                  inf,        inf],\n          [       inf,        inf,        inf,  ...,        inf,\n                  inf,        inf],\n          [       inf,        inf,        inf,  ...,        inf,\n                  inf,        inf],\n          ...,\n          [       inf,        inf,        inf,  ...,        inf,\n                  inf,        inf],\n          [       inf,        inf,        inf,  ...,        inf,\n                  inf,        inf],\n          [       inf,        inf,        inf,  ...,        inf,\n                  inf,        inf]],\n\n         [[       inf,        inf,        inf,  ...,        inf,\n                  inf,        inf],\n          [       inf,        inf,        inf,  ...,        inf,\n                  inf,        inf],\n          [       inf,        inf,        inf,  ...,        inf,\n                  inf,        inf],\n          ...,\n          [       inf,        inf,        inf,  ...,        inf,\n                  inf,        inf],\n          [       inf,        inf,        inf,  ...,        inf,\n                  inf,        inf],\n          [       inf,        inf,        inf,  ...,        inf,\n                  inf,        inf]],\n\n         [[       inf,        inf, 1.0976e+38,  ...,        inf,\n           1.7110e+38, 0.0000e+00],\n          [       inf, 2.3104e+38, 0.0000e+00,  ...,        inf,\n           4.4429e+37, 0.0000e+00],\n          [       inf, 0.0000e+00, 1.0929e+38,  ...,        inf,\n           0.0000e+00, 0.0000e+00],\n          ...,\n          [       inf,        inf,        inf,  ..., 0.0000e+00,\n           0.0000e+00, 0.0000e+00],\n          [       inf,        inf, 1.4429e+38,  ..., 0.0000e+00,\n           0.0000e+00, 0.0000e+00],\n          [2.9631e+38, 2.6906e+37, 0.0000e+00,  ..., 0.0000e+00,\n           0.0000e+00, 0.0000e+00]],\n\n         ...,\n\n         [[       inf,        inf,        inf,  ...,        inf,\n                  inf,        inf],\n          [       inf,        inf,        inf,  ...,        inf,\n                  inf,        inf],\n          [       inf,        inf,        inf,  ...,        inf,\n                  inf,        inf],\n          ...,\n          [       inf,        inf,        inf,  ...,        inf,\n                  inf,        inf],\n          [       inf,        inf,        inf,  ...,        inf,\n                  inf,        inf],\n          [       inf,        inf,        inf,  ...,        inf,\n                  inf,        inf]],\n\n         [[       inf,        inf,        inf,  ...,        inf,\n                  inf,        inf],\n          [       inf,        inf,        inf,  ...,        inf,\n                  inf,        inf],\n          [       inf,        inf,        inf,  ...,        inf,\n                  inf,        inf],\n          ...,\n          [       inf,        inf,        inf,  ...,        inf,\n                  inf,        inf],\n          [       inf,        inf,        inf,  ...,        inf,\n                  inf,        inf],\n          [       inf,        inf,        inf,  ...,        inf,\n                  inf,        inf]],\n\n         [[       inf,        inf,        inf,  ...,        inf,\n                  inf,        inf],\n          [       inf,        inf,        inf,  ...,        inf,\n                  inf,        inf],\n          [       inf,        inf,        inf,  ...,        inf,\n                  inf,        inf],\n          ...,\n          [       inf,        inf,        inf,  ...,        inf,\n                  inf,        inf],\n          [       inf,        inf,        inf,  ...,        inf,\n                  inf,        inf],\n          [       inf,        inf,        inf,  ...,        inf,\n                  inf,        inf]]],\n\n\n        ...,\n\n\n        [[[       inf,        inf,        inf,  ...,        inf,\n                  inf,        inf],\n          [       inf,        inf,        inf,  ...,        inf,\n                  inf,        inf],\n          [       inf,        inf,        inf,  ...,        inf,\n                  inf,        inf],\n          ...,\n          [       inf,        inf,        inf,  ...,        inf,\n                  inf,        inf],\n          [       inf,        inf,        inf,  ...,        inf,\n                  inf,        inf],\n          [       inf,        inf,        inf,  ...,        inf,\n                  inf,        inf]],\n\n         [[       inf,        inf,        inf,  ...,        inf,\n                  inf,        inf],\n          [       inf,        inf,        inf,  ...,        inf,\n                  inf,        inf],\n          [       inf,        inf,        inf,  ...,        inf,\n                  inf,        inf],\n          ...,\n          [       inf,        inf,        inf,  ...,        inf,\n                  inf,        inf],\n          [       inf,        inf,        inf,  ...,        inf,\n                  inf,        inf],\n          [       inf,        inf,        inf,  ...,        inf,\n                  inf,        inf]],\n\n         [[       inf,        inf,        inf,  ...,        inf,\n                  inf, 3.3274e+38],\n          [       inf,        inf, 2.3957e+38,  ...,        inf,\n                  inf,        inf],\n          [2.5607e+38, 0.0000e+00, 0.0000e+00,  ...,        inf,\n                  inf,        inf],\n          ...,\n          [       inf,        inf,        inf,  ...,        inf,\n           6.0741e+37, 0.0000e+00],\n          [       inf,        inf,        inf,  ..., 0.0000e+00,\n           0.0000e+00, 0.0000e+00],\n          [1.4335e+38, 1.0885e+38, 0.0000e+00,  ..., 0.0000e+00,\n           0.0000e+00, 0.0000e+00]],\n\n         ...,\n\n         [[       inf,        inf,        inf,  ...,        inf,\n                  inf,        inf],\n          [       inf,        inf,        inf,  ...,        inf,\n                  inf,        inf],\n          [       inf,        inf,        inf,  ...,        inf,\n                  inf,        inf],\n          ...,\n          [       inf,        inf,        inf,  ...,        inf,\n                  inf,        inf],\n          [       inf,        inf,        inf,  ...,        inf,\n                  inf,        inf],\n          [       inf,        inf,        inf,  ...,        inf,\n                  inf,        inf]],\n\n         [[       inf,        inf,        inf,  ...,        inf,\n                  inf,        inf],\n          [       inf,        inf,        inf,  ...,        inf,\n                  inf,        inf],\n          [       inf,        inf,        inf,  ...,        inf,\n                  inf,        inf],\n          ...,\n          [       inf,        inf,        inf,  ...,        inf,\n                  inf,        inf],\n          [       inf,        inf,        inf,  ...,        inf,\n                  inf,        inf],\n          [       inf,        inf,        inf,  ...,        inf,\n                  inf,        inf]],\n\n         [[       inf,        inf,        inf,  ...,        inf,\n                  inf,        inf],\n          [       inf,        inf,        inf,  ...,        inf,\n                  inf,        inf],\n          [       inf,        inf,        inf,  ...,        inf,\n                  inf,        inf],\n          ...,\n          [       inf,        inf,        inf,  ...,        inf,\n                  inf,        inf],\n          [       inf,        inf,        inf,  ...,        inf,\n                  inf,        inf],\n          [       inf,        inf,        inf,  ...,        inf,\n                  inf,        inf]]],\n\n\n        [[[       inf,        inf,        inf,  ...,        inf,\n                  inf,        inf],\n          [       inf,        inf,        inf,  ...,        inf,\n                  inf,        inf],\n          [       inf,        inf,        inf,  ...,        inf,\n                  inf,        inf],\n          ...,\n          [       inf,        inf,        inf,  ...,        inf,\n                  inf,        inf],\n          [       inf,        inf,        inf,  ...,        inf,\n                  inf,        inf],\n          [       inf,        inf,        inf,  ...,        inf,\n                  inf,        inf]],\n\n         [[       inf,        inf,        inf,  ...,        inf,\n                  inf,        inf],\n          [       inf,        inf,        inf,  ...,        inf,\n                  inf,        inf],\n          [       inf,        inf,        inf,  ...,        inf,\n                  inf,        inf],\n          ...,\n          [       inf,        inf,        inf,  ...,        inf,\n                  inf,        inf],\n          [       inf,        inf,        inf,  ...,        inf,\n                  inf,        inf],\n          [       inf,        inf,        inf,  ...,        inf,\n                  inf,        inf]],\n\n         [[       inf,        inf,        inf,  ...,        inf,\n                  inf, 8.2726e+36],\n          [       inf,        inf,        inf,  ..., 0.0000e+00,\n           0.0000e+00, 0.0000e+00],\n          [       inf,        inf,        inf,  ..., 0.0000e+00,\n           0.0000e+00, 0.0000e+00],\n          ...,\n          [       inf,        inf,        inf,  ..., 0.0000e+00,\n           0.0000e+00, 0.0000e+00],\n          [       inf,        inf,        inf,  ..., 0.0000e+00,\n           0.0000e+00, 0.0000e+00],\n          [       inf,        inf, 2.3550e+37,  ..., 0.0000e+00,\n           0.0000e+00, 0.0000e+00]],\n\n         ...,\n\n         [[       inf,        inf,        inf,  ...,        inf,\n                  inf,        inf],\n          [       inf,        inf,        inf,  ...,        inf,\n                  inf,        inf],\n          [       inf,        inf,        inf,  ...,        inf,\n                  inf,        inf],\n          ...,\n          [       inf,        inf,        inf,  ...,        inf,\n                  inf,        inf],\n          [       inf,        inf,        inf,  ...,        inf,\n                  inf,        inf],\n          [       inf,        inf,        inf,  ...,        inf,\n                  inf,        inf]],\n\n         [[       inf,        inf,        inf,  ...,        inf,\n                  inf,        inf],\n          [       inf,        inf,        inf,  ...,        inf,\n                  inf,        inf],\n          [       inf,        inf,        inf,  ...,        inf,\n                  inf,        inf],\n          ...,\n          [       inf,        inf,        inf,  ...,        inf,\n                  inf,        inf],\n          [       inf,        inf,        inf,  ...,        inf,\n                  inf,        inf],\n          [       inf,        inf,        inf,  ...,        inf,\n                  inf,        inf]],\n\n         [[       inf,        inf,        inf,  ...,        inf,\n                  inf,        inf],\n          [       inf,        inf,        inf,  ...,        inf,\n                  inf,        inf],\n          [       inf,        inf,        inf,  ...,        inf,\n                  inf,        inf],\n          ...,\n          [       inf,        inf,        inf,  ...,        inf,\n                  inf,        inf],\n          [       inf,        inf,        inf,  ...,        inf,\n                  inf,        inf],\n          [       inf,        inf,        inf,  ...,        inf,\n                  inf,        inf]]],\n\n\n        [[[       inf,        inf,        inf,  ...,        inf,\n                  inf,        inf],\n          [       inf,        inf,        inf,  ...,        inf,\n                  inf,        inf],\n          [       inf,        inf,        inf,  ...,        inf,\n                  inf,        inf],\n          ...,\n          [       inf,        inf,        inf,  ...,        inf,\n                  inf,        inf],\n          [       inf,        inf,        inf,  ...,        inf,\n                  inf,        inf],\n          [       inf,        inf,        inf,  ...,        inf,\n                  inf,        inf]],\n\n         [[       inf,        inf,        inf,  ...,        inf,\n                  inf,        inf],\n          [       inf,        inf,        inf,  ...,        inf,\n                  inf,        inf],\n          [       inf,        inf,        inf,  ...,        inf,\n                  inf,        inf],\n          ...,\n          [       inf,        inf,        inf,  ...,        inf,\n                  inf,        inf],\n          [       inf,        inf,        inf,  ...,        inf,\n                  inf,        inf],\n          [       inf,        inf,        inf,  ...,        inf,\n                  inf,        inf]],\n\n         [[0.0000e+00, 0.0000e+00, 1.5344e+38,  ...,        inf,\n           0.0000e+00, 0.0000e+00],\n          [0.0000e+00, 0.0000e+00, 1.2944e+38,  ...,        inf,\n           0.0000e+00, 0.0000e+00],\n          [       inf, 5.1929e+37, 9.0313e+37,  ...,        inf,\n           0.0000e+00, 0.0000e+00],\n          ...,\n          [1.2083e+38, 2.1474e+38, 2.0416e+38,  ...,        inf,\n           6.0474e+37, 0.0000e+00],\n          [0.0000e+00, 0.0000e+00, 0.0000e+00,  ...,        inf,\n           3.6573e+37, 0.0000e+00],\n          [0.0000e+00, 0.0000e+00, 0.0000e+00,  ..., 1.4222e+38,\n           0.0000e+00, 0.0000e+00]],\n\n         ...,\n\n         [[       inf,        inf,        inf,  ...,        inf,\n                  inf,        inf],\n          [       inf,        inf,        inf,  ...,        inf,\n                  inf,        inf],\n          [       inf,        inf,        inf,  ...,        inf,\n                  inf,        inf],\n          ...,\n          [       inf,        inf,        inf,  ...,        inf,\n                  inf,        inf],\n          [       inf,        inf,        inf,  ...,        inf,\n                  inf,        inf],\n          [       inf,        inf,        inf,  ...,        inf,\n                  inf,        inf]],\n\n         [[       inf,        inf,        inf,  ...,        inf,\n                  inf,        inf],\n          [       inf,        inf,        inf,  ...,        inf,\n                  inf,        inf],\n          [       inf,        inf,        inf,  ...,        inf,\n                  inf,        inf],\n          ...,\n          [       inf,        inf,        inf,  ...,        inf,\n                  inf,        inf],\n          [       inf,        inf,        inf,  ...,        inf,\n                  inf,        inf],\n          [       inf,        inf,        inf,  ...,        inf,\n                  inf,        inf]],\n\n         [[       inf,        inf,        inf,  ...,        inf,\n                  inf,        inf],\n          [       inf,        inf,        inf,  ...,        inf,\n                  inf,        inf],\n          [       inf,        inf,        inf,  ...,        inf,\n                  inf,        inf],\n          ...,\n          [       inf,        inf,        inf,  ...,        inf,\n                  inf,        inf],\n          [       inf,        inf,        inf,  ...,        inf,\n                  inf,        inf],\n          [       inf,        inf,        inf,  ...,        inf,\n                  inf,        inf]]]], grad_fn=<ReluBackward0>)",
     "output_type": "error",
     "traceback": [
      "\u001b[0;31m---------------------------------------------------------------------------\u001b[0m",
      "\u001b[0;31mAssertionError\u001b[0m                            Traceback (most recent call last)",
      "\u001b[0;32m<ipython-input-20-7e7720616365>\u001b[0m in \u001b[0;36m<module>\u001b[0;34m\u001b[0m\n\u001b[1;32m      1\u001b[0m \u001b[0;32mfor\u001b[0m \u001b[0mepoch\u001b[0m \u001b[0;32min\u001b[0m \u001b[0mrange\u001b[0m\u001b[0;34m(\u001b[0m\u001b[0;36m100000\u001b[0m\u001b[0;34m)\u001b[0m\u001b[0;34m:\u001b[0m\u001b[0;34m\u001b[0m\u001b[0;34m\u001b[0m\u001b[0m\n\u001b[0;32m----> 2\u001b[0;31m     \u001b[0mtrain\u001b[0m\u001b[0;34m(\u001b[0m\u001b[0margs\u001b[0m\u001b[0;34m,\u001b[0m \u001b[0mmodel\u001b[0m\u001b[0;34m,\u001b[0m \u001b[0mdevice\u001b[0m\u001b[0;34m,\u001b[0m \u001b[0mtrain_loader\u001b[0m\u001b[0;34m,\u001b[0m \u001b[0moptimizer\u001b[0m\u001b[0;34m,\u001b[0m \u001b[0mepoch\u001b[0m\u001b[0;34m=\u001b[0m\u001b[0mepoch\u001b[0m\u001b[0;34m)\u001b[0m\u001b[0;34m\u001b[0m\u001b[0;34m\u001b[0m\u001b[0m\n\u001b[0m",
      "\u001b[0;32m<ipython-input-14-92edb1215821>\u001b[0m in \u001b[0;36mtrain\u001b[0;34m(args, model, device, train_loader, optimizer, epoch)\u001b[0m\n\u001b[1;32m      5\u001b[0m         \u001b[0mdata\u001b[0m\u001b[0;34m,\u001b[0m \u001b[0mtarget\u001b[0m \u001b[0;34m=\u001b[0m \u001b[0mdata\u001b[0m\u001b[0;34m.\u001b[0m\u001b[0mto\u001b[0m\u001b[0;34m(\u001b[0m\u001b[0mdevice\u001b[0m\u001b[0;34m)\u001b[0m\u001b[0;34m,\u001b[0m \u001b[0mtarget\u001b[0m\u001b[0;34m.\u001b[0m\u001b[0mto\u001b[0m\u001b[0;34m(\u001b[0m\u001b[0mdevice\u001b[0m\u001b[0;34m)\u001b[0m  \u001b[0;31m# to do: needed?\u001b[0m\u001b[0;34m\u001b[0m\u001b[0;34m\u001b[0m\u001b[0m\n\u001b[1;32m      6\u001b[0m         \u001b[0moptimizer\u001b[0m\u001b[0;34m.\u001b[0m\u001b[0mzero_grad\u001b[0m\u001b[0;34m(\u001b[0m\u001b[0;34m)\u001b[0m  \u001b[0;31m# what does this do? zero-out any previous gradient info?\u001b[0m\u001b[0;34m\u001b[0m\u001b[0;34m\u001b[0m\u001b[0m\n\u001b[0;32m----> 7\u001b[0;31m         \u001b[0moutput\u001b[0m \u001b[0;34m=\u001b[0m \u001b[0mmodel\u001b[0m\u001b[0;34m(\u001b[0m\u001b[0mdata\u001b[0m\u001b[0;34m)\u001b[0m\u001b[0;34m\u001b[0m\u001b[0;34m\u001b[0m\u001b[0m\n\u001b[0m\u001b[1;32m      8\u001b[0m         \u001b[0mloss\u001b[0m \u001b[0;34m=\u001b[0m \u001b[0mF\u001b[0m\u001b[0;34m.\u001b[0m\u001b[0mnll_loss\u001b[0m\u001b[0;34m(\u001b[0m\u001b[0moutput\u001b[0m\u001b[0;34m,\u001b[0m \u001b[0mtarget\u001b[0m\u001b[0;34m)\u001b[0m\u001b[0;34m\u001b[0m\u001b[0;34m\u001b[0m\u001b[0m\n\u001b[1;32m      9\u001b[0m         \u001b[0mloss\u001b[0m\u001b[0;34m.\u001b[0m\u001b[0mbackward\u001b[0m\u001b[0;34m(\u001b[0m\u001b[0;34m)\u001b[0m\u001b[0;34m\u001b[0m\u001b[0;34m\u001b[0m\u001b[0m\n",
      "\u001b[0;32m~/.local/share/virtualenvs/william-oBc2a6gD/lib/python3.7/site-packages/torch/nn/modules/module.py\u001b[0m in \u001b[0;36m__call__\u001b[0;34m(self, *input, **kwargs)\u001b[0m\n\u001b[1;32m    487\u001b[0m             \u001b[0mresult\u001b[0m \u001b[0;34m=\u001b[0m \u001b[0mself\u001b[0m\u001b[0;34m.\u001b[0m\u001b[0m_slow_forward\u001b[0m\u001b[0;34m(\u001b[0m\u001b[0;34m*\u001b[0m\u001b[0minput\u001b[0m\u001b[0;34m,\u001b[0m \u001b[0;34m**\u001b[0m\u001b[0mkwargs\u001b[0m\u001b[0;34m)\u001b[0m\u001b[0;34m\u001b[0m\u001b[0;34m\u001b[0m\u001b[0m\n\u001b[1;32m    488\u001b[0m         \u001b[0;32melse\u001b[0m\u001b[0;34m:\u001b[0m\u001b[0;34m\u001b[0m\u001b[0;34m\u001b[0m\u001b[0m\n\u001b[0;32m--> 489\u001b[0;31m             \u001b[0mresult\u001b[0m \u001b[0;34m=\u001b[0m \u001b[0mself\u001b[0m\u001b[0;34m.\u001b[0m\u001b[0mforward\u001b[0m\u001b[0;34m(\u001b[0m\u001b[0;34m*\u001b[0m\u001b[0minput\u001b[0m\u001b[0;34m,\u001b[0m \u001b[0;34m**\u001b[0m\u001b[0mkwargs\u001b[0m\u001b[0;34m)\u001b[0m\u001b[0;34m\u001b[0m\u001b[0;34m\u001b[0m\u001b[0m\n\u001b[0m\u001b[1;32m    490\u001b[0m         \u001b[0;32mfor\u001b[0m \u001b[0mhook\u001b[0m \u001b[0;32min\u001b[0m \u001b[0mself\u001b[0m\u001b[0;34m.\u001b[0m\u001b[0m_forward_hooks\u001b[0m\u001b[0;34m.\u001b[0m\u001b[0mvalues\u001b[0m\u001b[0;34m(\u001b[0m\u001b[0;34m)\u001b[0m\u001b[0;34m:\u001b[0m\u001b[0;34m\u001b[0m\u001b[0;34m\u001b[0m\u001b[0m\n\u001b[1;32m    491\u001b[0m             \u001b[0mhook_result\u001b[0m \u001b[0;34m=\u001b[0m \u001b[0mhook\u001b[0m\u001b[0;34m(\u001b[0m\u001b[0mself\u001b[0m\u001b[0;34m,\u001b[0m \u001b[0minput\u001b[0m\u001b[0;34m,\u001b[0m \u001b[0mresult\u001b[0m\u001b[0;34m)\u001b[0m\u001b[0;34m\u001b[0m\u001b[0;34m\u001b[0m\u001b[0m\n",
      "\u001b[0;32m<ipython-input-4-9d8ef8e8dd9e>\u001b[0m in \u001b[0;36mforward\u001b[0;34m(self, x)\u001b[0m\n\u001b[1;32m     17\u001b[0m \u001b[0;31m#         print(\"F.max_pool2d(out, 2):\", out.shape)\u001b[0m\u001b[0;34m\u001b[0m\u001b[0;34m\u001b[0m\u001b[0;34m\u001b[0m\u001b[0m\n\u001b[1;32m     18\u001b[0m         \u001b[0mout\u001b[0m \u001b[0;34m=\u001b[0m \u001b[0mF\u001b[0m\u001b[0;34m.\u001b[0m\u001b[0mrelu\u001b[0m\u001b[0;34m(\u001b[0m\u001b[0mself\u001b[0m\u001b[0;34m.\u001b[0m\u001b[0mconv2\u001b[0m\u001b[0;34m(\u001b[0m\u001b[0mout\u001b[0m\u001b[0;34m)\u001b[0m\u001b[0;34m)\u001b[0m\u001b[0;34m\u001b[0m\u001b[0;34m\u001b[0m\u001b[0m\n\u001b[0;32m---> 19\u001b[0;31m         \u001b[0;32massert\u001b[0m \u001b[0;32mnot\u001b[0m \u001b[0mtorch\u001b[0m\u001b[0;34m.\u001b[0m\u001b[0misnan\u001b[0m\u001b[0;34m(\u001b[0m\u001b[0mout\u001b[0m\u001b[0;34m)\u001b[0m\u001b[0;34m.\u001b[0m\u001b[0many\u001b[0m\u001b[0;34m(\u001b[0m\u001b[0;34m)\u001b[0m\u001b[0;34m.\u001b[0m\u001b[0mdata\u001b[0m\u001b[0;34m,\u001b[0m \u001b[0mout\u001b[0m\u001b[0;34m\u001b[0m\u001b[0;34m\u001b[0m\u001b[0m\n\u001b[0m\u001b[1;32m     20\u001b[0m \u001b[0;31m#         print(\"F.relu(self.conv2(out)):\", out.shape)\u001b[0m\u001b[0;34m\u001b[0m\u001b[0;34m\u001b[0m\u001b[0;34m\u001b[0m\u001b[0m\n\u001b[1;32m     21\u001b[0m         \u001b[0mout\u001b[0m \u001b[0;34m=\u001b[0m \u001b[0mF\u001b[0m\u001b[0;34m.\u001b[0m\u001b[0mmax_pool2d\u001b[0m\u001b[0;34m(\u001b[0m\u001b[0mout\u001b[0m\u001b[0;34m,\u001b[0m \u001b[0;36m2\u001b[0m\u001b[0;34m)\u001b[0m\u001b[0;34m\u001b[0m\u001b[0;34m\u001b[0m\u001b[0m\n",
      "\u001b[0;31mAssertionError\u001b[0m: tensor([[[[       inf,        inf,        inf,  ...,        inf,\n                  inf,        inf],\n          [       inf,        inf,        inf,  ...,        inf,\n                  inf,        inf],\n          [       inf,        inf,        inf,  ...,        inf,\n                  inf,        inf],\n          ...,\n          [       inf,        inf,        inf,  ...,        inf,\n                  inf,        inf],\n          [       inf,        inf,        inf,  ...,        inf,\n                  inf,        inf],\n          [       inf,        inf,        inf,  ...,        inf,\n                  inf,        inf]],\n\n         [[       inf,        inf,        inf,  ...,        inf,\n                  inf,        inf],\n          [       inf,        inf,        inf,  ...,        inf,\n                  inf,        inf],\n          [       inf,        inf,        inf,  ...,        inf,\n                  inf,        inf],\n          ...,\n          [       inf,        inf,        inf,  ...,        inf,\n                  inf,        inf],\n          [       inf,        inf,        inf,  ...,        inf,\n                  inf,        inf],\n          [       inf,        inf,        inf,  ...,        inf,\n                  inf,        inf]],\n\n         [[       inf,        inf,        inf,  ...,        inf,\n                  inf, 2.8911e+38],\n          [       inf,        inf, 2.3560e+38,  ...,        inf,\n                  inf,        inf],\n          [       inf,        inf, 0.0000e+00,  ...,        inf,\n                  inf,        inf],\n          ...,\n          [       inf,        inf,        inf,  ...,        inf,\n                  inf, 3.1583e+37],\n          [       inf,        inf,        inf,  ..., 2.3274e+38,\n           0.0000e+00, 0.0000e+00],\n          [2.0440e+38, 2.0399e+38, 1.0147e+38,  ..., 0.0000e+00,\n           0.0000e+00, 0.0000e+00]],\n\n         ...,\n\n         [[       inf,        inf,        inf,  ...,        inf,\n                  inf,        inf],\n          [       inf,        inf,        inf,  ...,        inf,\n                  inf,        inf],\n          [       inf,        inf,        inf,  ...,        inf,\n                  inf,        inf],\n          ...,\n          [       inf,        inf,        inf,  ...,        inf,\n                  inf,        inf],\n          [       inf,        inf,        inf,  ...,        inf,\n                  inf,        inf],\n          [       inf,        inf,        inf,  ...,        inf,\n                  inf,        inf]],\n\n         [[       inf,        inf,        inf,  ...,        inf,\n                  inf,        inf],\n          [       inf,        inf,        inf,  ...,        inf,\n                  inf,        inf],\n          [       inf,        inf,        inf,  ...,        inf,\n                  inf,        inf],\n          ...,\n          [       inf,        inf,        inf,  ...,        inf,\n                  inf,        inf],\n          [       inf,        inf,        inf,  ...,        inf,\n                  inf,        inf],\n          [       inf,        inf,        inf,  ...,        inf,\n                  inf,        inf]],\n\n         [[       inf,        inf,        inf,  ...,        inf,\n                  inf,        inf],\n          [       inf,        inf,        inf,  ...,        inf,\n                  inf,        inf],\n          [       inf,        inf,        inf,  ...,        inf,\n                  inf,        inf],\n          ...,\n          [       inf,        inf,        inf,  ...,        inf,\n                  inf,        inf],\n          [       inf,        inf,        inf,  ...,        inf,\n                  inf,        inf],\n          [       inf,        inf,        inf,  ...,        inf,\n                  inf,        inf]]],\n\n\n        [[[       inf,        inf,        inf,  ...,        inf,\n                  inf,        inf],\n          [       inf,        inf,        inf,  ...,        inf,\n                  inf,        inf],\n          [       inf,        inf,        inf,  ...,        inf,\n                  inf,        inf],\n          ...,\n          [       inf,        inf,        inf,  ...,        inf,\n                  inf,        inf],\n          [       inf,        inf,        inf,  ...,        inf,\n                  inf,        inf],\n          [       inf,        inf,        inf,  ...,        inf,\n                  inf,        inf]],\n\n         [[       inf,        inf,        inf,  ...,        inf,\n                  inf,        inf],\n          [       inf,        inf,        inf,  ...,        inf,\n                  inf,        inf],\n          [       inf,        inf,        inf,  ...,        inf,\n                  inf,        inf],\n          ...,\n          [       inf,        inf,        inf,  ...,        inf,\n                  inf,        inf],\n          [       inf,        inf,        inf,  ...,        inf,\n                  inf,        inf],\n          [       inf,        inf,        inf,  ...,        inf,\n                  inf,        inf]],\n\n         [[       inf,        inf,        inf,  ..., 1.3265e+38,\n           1.6466e+38, 8.5617e+37],\n          [       inf,        inf,        inf,  ..., 1.1352e+37,\n           0.0000e+00, 0.0000e+00],\n          [       inf,        inf,        inf,  ...,        inf,\n           2.2030e+37, 0.0000e+00],\n          ...,\n          [       inf,        inf,        inf,  ..., 2.3793e+38,\n           0.0000e+00, 0.0000e+00],\n          [       inf,        inf,        inf,  ..., 0.0000e+00,\n           0.0000e+00, 0.0000e+00],\n          [0.0000e+00, 0.0000e+00, 0.0000e+00,  ..., 0.0000e+00,\n           0.0000e+00, 0.0000e+00]],\n\n         ...,\n\n         [[       inf,        inf,        inf,  ...,        inf,\n                  inf,        inf],\n          [       inf,        inf,        inf,  ...,        inf,\n                  inf,        inf],\n          [       inf,        inf,        inf,  ...,        inf,\n                  inf,        inf],\n          ...,\n          [       inf,        inf,        inf,  ...,        inf,\n                  inf,        inf],\n          [       inf,        inf,        inf,  ...,        inf,\n                  inf,        inf],\n          [       inf,        inf,        inf,  ...,        inf,\n                  inf,        inf]],\n\n         [[       inf,        inf,        inf,  ...,        inf,\n                  inf,        inf],\n          [       inf,        inf,        inf,  ...,        inf,\n                  inf,        inf],\n          [       inf,        inf,        inf,  ...,        inf,\n                  inf,        inf],\n          ...,\n          [       inf,        inf,        inf,  ...,        inf,\n                  inf,        inf],\n          [       inf,        inf,        inf,  ...,        inf,\n                  inf,        inf],\n          [       inf,        inf,        inf,  ...,        inf,\n                  inf,        inf]],\n\n         [[       inf,        inf,        inf,  ...,        inf,\n                  inf,        inf],\n          [       inf,        inf,        inf,  ...,        inf,\n                  inf,        inf],\n          [       inf,        inf,        inf,  ...,        inf,\n                  inf,        inf],\n          ...,\n          [       inf,        inf,        inf,  ...,        inf,\n                  inf,        inf],\n          [       inf,        inf,        inf,  ...,        inf,\n                  inf,        inf],\n          [       inf,        inf,        inf,  ...,        inf,\n                  inf,        inf]]],\n\n\n        [[[       inf,        inf,        inf,  ...,        inf,\n                  inf,        inf],\n          [       inf,        inf,        inf,  ...,        inf,\n                  inf,        inf],\n          [       inf,        inf,        inf,  ...,        inf,\n                  inf,        inf],\n          ...,\n          [       inf,        inf,        inf,  ...,        inf,\n                  inf,        inf],\n          [       inf,        inf,        inf,  ...,        inf,\n                  inf,        inf],\n          [       inf,        inf,        inf,  ...,        inf,\n                  inf,        inf]],\n\n         [[       inf,        inf,        inf,  ...,        inf,\n                  inf,        inf],\n          [       inf,        inf,        inf,  ...,        inf,\n                  inf,        inf],\n          [       inf,        inf,        inf,  ...,        inf,\n                  inf,        inf],\n          ...,\n          [       inf,        inf,        inf,  ...,        inf,\n                  inf,        inf],\n          [       inf,        inf,        inf,  ...,        inf,\n                  inf,        inf],\n          [       inf,        inf,        inf,  ...,        inf,\n                  inf,        inf]],\n\n         [[       inf,        inf, 1.0976e+38,  ...,        inf,\n           1.7110e+38, 0.0000e+00],\n          [       inf, 2.3104e+38, 0.0000e+00,  ...,        inf,\n           4.4429e+37, 0.0000e+00],\n          [       inf, 0.0000e+00, 1.0929e+38,  ...,        inf,\n           0.0000e+00, 0.0000e+00],\n          ...,\n          [       inf,        inf,        inf,  ..., 0.0000e+00,\n           0.0000e+00, 0.0000e+00],\n          [       inf,        inf, 1.4429e+38,  ..., 0.0000e+00,\n           0.0000e+00, 0.0000e+00],\n          [2.9631e+38, 2.6906e+37, 0.0000e+00,  ..., 0.0000e+00,\n           0.0000e+00, 0.0000e+00]],\n\n         ...,\n\n         [[       inf,        inf,        inf,  ...,        inf,\n                  inf,        inf],\n          [       inf,        inf,        inf,  ...,        inf,\n                  inf,        inf],\n          [       inf,        inf,        inf,  ...,        inf,\n                  inf,        inf],\n          ...,\n          [       inf,        inf,        inf,  ...,        inf,\n                  inf,        inf],\n          [       inf,        inf,        inf,  ...,        inf,\n                  inf,        inf],\n          [       inf,        inf,        inf,  ...,        inf,\n                  inf,        inf]],\n\n         [[       inf,        inf,        inf,  ...,        inf,\n                  inf,        inf],\n          [       inf,        inf,        inf,  ...,        inf,\n                  inf,        inf],\n          [       inf,        inf,        inf,  ...,        inf,\n                  inf,        inf],\n          ...,\n          [       inf,        inf,        inf,  ...,        inf,\n                  inf,        inf],\n          [       inf,        inf,        inf,  ...,        inf,\n                  inf,        inf],\n          [       inf,        inf,        inf,  ...,        inf,\n                  inf,        inf]],\n\n         [[       inf,        inf,        inf,  ...,        inf,\n                  inf,        inf],\n          [       inf,        inf,        inf,  ...,        inf,\n                  inf,        inf],\n          [       inf,        inf,        inf,  ...,        inf,\n                  inf,        inf],\n          ...,\n          [       inf,        inf,        inf,  ...,        inf,\n                  inf,        inf],\n          [       inf,        inf,        inf,  ...,        inf,\n                  inf,        inf],\n          [       inf,        inf,        inf,  ...,        inf,\n                  inf,        inf]]],\n\n\n        ...,\n\n\n        [[[       inf,        inf,        inf,  ...,        inf,\n                  inf,        inf],\n          [       inf,        inf,        inf,  ...,        inf,\n                  inf,        inf],\n          [       inf,        inf,        inf,  ...,        inf,\n                  inf,        inf],\n          ...,\n          [       inf,        inf,        inf,  ...,        inf,\n                  inf,        inf],\n          [       inf,        inf,        inf,  ...,        inf,\n                  inf,        inf],\n          [       inf,        inf,        inf,  ...,        inf,\n                  inf,        inf]],\n\n         [[       inf,        inf,        inf,  ...,        inf,\n                  inf,        inf],\n          [       inf,        inf,        inf,  ...,        inf,\n                  inf,        inf],\n          [       inf,        inf,        inf,  ...,        inf,\n                  inf,        inf],\n          ...,\n          [       inf,        inf,        inf,  ...,        inf,\n                  inf,        inf],\n          [       inf,        inf,        inf,  ...,        inf,\n                  inf,        inf],\n          [       inf,        inf,        inf,  ...,        inf,\n                  inf,        inf]],\n\n         [[       inf,        inf,        inf,  ...,        inf,\n                  inf, 3.3274e+38],\n          [       inf,        inf, 2.3957e+38,  ...,        inf,\n                  inf,        inf],\n          [2.5607e+38, 0.0000e+00, 0.0000e+00,  ...,        inf,\n                  inf,        inf],\n          ...,\n          [       inf,        inf,        inf,  ...,        inf,\n           6.0741e+37, 0.0000e+00],\n          [       inf,        inf,        inf,  ..., 0.0000e+00,\n           0.0000e+00, 0.0000e+00],\n          [1.4335e+38, 1.0885e+38, 0.0000e+00,  ..., 0.0000e+00,\n           0.0000e+00, 0.0000e+00]],\n\n         ...,\n\n         [[       inf,        inf,        inf,  ...,        inf,\n                  inf,        inf],\n          [       inf,        inf,        inf,  ...,        inf,\n                  inf,        inf],\n          [       inf,        inf,        inf,  ...,        inf,\n                  inf,        inf],\n          ...,\n          [       inf,        inf,        inf,  ...,        inf,\n                  inf,        inf],\n          [       inf,        inf,        inf,  ...,        inf,\n                  inf,        inf],\n          [       inf,        inf,        inf,  ...,        inf,\n                  inf,        inf]],\n\n         [[       inf,        inf,        inf,  ...,        inf,\n                  inf,        inf],\n          [       inf,        inf,        inf,  ...,        inf,\n                  inf,        inf],\n          [       inf,        inf,        inf,  ...,        inf,\n                  inf,        inf],\n          ...,\n          [       inf,        inf,        inf,  ...,        inf,\n                  inf,        inf],\n          [       inf,        inf,        inf,  ...,        inf,\n                  inf,        inf],\n          [       inf,        inf,        inf,  ...,        inf,\n                  inf,        inf]],\n\n         [[       inf,        inf,        inf,  ...,        inf,\n                  inf,        inf],\n          [       inf,        inf,        inf,  ...,        inf,\n                  inf,        inf],\n          [       inf,        inf,        inf,  ...,        inf,\n                  inf,        inf],\n          ...,\n          [       inf,        inf,        inf,  ...,        inf,\n                  inf,        inf],\n          [       inf,        inf,        inf,  ...,        inf,\n                  inf,        inf],\n          [       inf,        inf,        inf,  ...,        inf,\n                  inf,        inf]]],\n\n\n        [[[       inf,        inf,        inf,  ...,        inf,\n                  inf,        inf],\n          [       inf,        inf,        inf,  ...,        inf,\n                  inf,        inf],\n          [       inf,        inf,        inf,  ...,        inf,\n                  inf,        inf],\n          ...,\n          [       inf,        inf,        inf,  ...,        inf,\n                  inf,        inf],\n          [       inf,        inf,        inf,  ...,        inf,\n                  inf,        inf],\n          [       inf,        inf,        inf,  ...,        inf,\n                  inf,        inf]],\n\n         [[       inf,        inf,        inf,  ...,        inf,\n                  inf,        inf],\n          [       inf,        inf,        inf,  ...,        inf,\n                  inf,        inf],\n          [       inf,        inf,        inf,  ...,        inf,\n                  inf,        inf],\n          ...,\n          [       inf,        inf,        inf,  ...,        inf,\n                  inf,        inf],\n          [       inf,        inf,        inf,  ...,        inf,\n                  inf,        inf],\n          [       inf,        inf,        inf,  ...,        inf,\n                  inf,        inf]],\n\n         [[       inf,        inf,        inf,  ...,        inf,\n                  inf, 8.2726e+36],\n          [       inf,        inf,        inf,  ..., 0.0000e+00,\n           0.0000e+00, 0.0000e+00],\n          [       inf,        inf,        inf,  ..., 0.0000e+00,\n           0.0000e+00, 0.0000e+00],\n          ...,\n          [       inf,        inf,        inf,  ..., 0.0000e+00,\n           0.0000e+00, 0.0000e+00],\n          [       inf,        inf,        inf,  ..., 0.0000e+00,\n           0.0000e+00, 0.0000e+00],\n          [       inf,        inf, 2.3550e+37,  ..., 0.0000e+00,\n           0.0000e+00, 0.0000e+00]],\n\n         ...,\n\n         [[       inf,        inf,        inf,  ...,        inf,\n                  inf,        inf],\n          [       inf,        inf,        inf,  ...,        inf,\n                  inf,        inf],\n          [       inf,        inf,        inf,  ...,        inf,\n                  inf,        inf],\n          ...,\n          [       inf,        inf,        inf,  ...,        inf,\n                  inf,        inf],\n          [       inf,        inf,        inf,  ...,        inf,\n                  inf,        inf],\n          [       inf,        inf,        inf,  ...,        inf,\n                  inf,        inf]],\n\n         [[       inf,        inf,        inf,  ...,        inf,\n                  inf,        inf],\n          [       inf,        inf,        inf,  ...,        inf,\n                  inf,        inf],\n          [       inf,        inf,        inf,  ...,        inf,\n                  inf,        inf],\n          ...,\n          [       inf,        inf,        inf,  ...,        inf,\n                  inf,        inf],\n          [       inf,        inf,        inf,  ...,        inf,\n                  inf,        inf],\n          [       inf,        inf,        inf,  ...,        inf,\n                  inf,        inf]],\n\n         [[       inf,        inf,        inf,  ...,        inf,\n                  inf,        inf],\n          [       inf,        inf,        inf,  ...,        inf,\n                  inf,        inf],\n          [       inf,        inf,        inf,  ...,        inf,\n                  inf,        inf],\n          ...,\n          [       inf,        inf,        inf,  ...,        inf,\n                  inf,        inf],\n          [       inf,        inf,        inf,  ...,        inf,\n                  inf,        inf],\n          [       inf,        inf,        inf,  ...,        inf,\n                  inf,        inf]]],\n\n\n        [[[       inf,        inf,        inf,  ...,        inf,\n                  inf,        inf],\n          [       inf,        inf,        inf,  ...,        inf,\n                  inf,        inf],\n          [       inf,        inf,        inf,  ...,        inf,\n                  inf,        inf],\n          ...,\n          [       inf,        inf,        inf,  ...,        inf,\n                  inf,        inf],\n          [       inf,        inf,        inf,  ...,        inf,\n                  inf,        inf],\n          [       inf,        inf,        inf,  ...,        inf,\n                  inf,        inf]],\n\n         [[       inf,        inf,        inf,  ...,        inf,\n                  inf,        inf],\n          [       inf,        inf,        inf,  ...,        inf,\n                  inf,        inf],\n          [       inf,        inf,        inf,  ...,        inf,\n                  inf,        inf],\n          ...,\n          [       inf,        inf,        inf,  ...,        inf,\n                  inf,        inf],\n          [       inf,        inf,        inf,  ...,        inf,\n                  inf,        inf],\n          [       inf,        inf,        inf,  ...,        inf,\n                  inf,        inf]],\n\n         [[0.0000e+00, 0.0000e+00, 1.5344e+38,  ...,        inf,\n           0.0000e+00, 0.0000e+00],\n          [0.0000e+00, 0.0000e+00, 1.2944e+38,  ...,        inf,\n           0.0000e+00, 0.0000e+00],\n          [       inf, 5.1929e+37, 9.0313e+37,  ...,        inf,\n           0.0000e+00, 0.0000e+00],\n          ...,\n          [1.2083e+38, 2.1474e+38, 2.0416e+38,  ...,        inf,\n           6.0474e+37, 0.0000e+00],\n          [0.0000e+00, 0.0000e+00, 0.0000e+00,  ...,        inf,\n           3.6573e+37, 0.0000e+00],\n          [0.0000e+00, 0.0000e+00, 0.0000e+00,  ..., 1.4222e+38,\n           0.0000e+00, 0.0000e+00]],\n\n         ...,\n\n         [[       inf,        inf,        inf,  ...,        inf,\n                  inf,        inf],\n          [       inf,        inf,        inf,  ...,        inf,\n                  inf,        inf],\n          [       inf,        inf,        inf,  ...,        inf,\n                  inf,        inf],\n          ...,\n          [       inf,        inf,        inf,  ...,        inf,\n                  inf,        inf],\n          [       inf,        inf,        inf,  ...,        inf,\n                  inf,        inf],\n          [       inf,        inf,        inf,  ...,        inf,\n                  inf,        inf]],\n\n         [[       inf,        inf,        inf,  ...,        inf,\n                  inf,        inf],\n          [       inf,        inf,        inf,  ...,        inf,\n                  inf,        inf],\n          [       inf,        inf,        inf,  ...,        inf,\n                  inf,        inf],\n          ...,\n          [       inf,        inf,        inf,  ...,        inf,\n                  inf,        inf],\n          [       inf,        inf,        inf,  ...,        inf,\n                  inf,        inf],\n          [       inf,        inf,        inf,  ...,        inf,\n                  inf,        inf]],\n\n         [[       inf,        inf,        inf,  ...,        inf,\n                  inf,        inf],\n          [       inf,        inf,        inf,  ...,        inf,\n                  inf,        inf],\n          [       inf,        inf,        inf,  ...,        inf,\n                  inf,        inf],\n          ...,\n          [       inf,        inf,        inf,  ...,        inf,\n                  inf,        inf],\n          [       inf,        inf,        inf,  ...,        inf,\n                  inf,        inf],\n          [       inf,        inf,        inf,  ...,        inf,\n                  inf,        inf]]]], grad_fn=<ReluBackward0>)"
     ]
    }
   ],
   "source": [
    "for epoch in range(100000):\n",
    "    train(args, model, device, train_loader, optimizer, epoch=epoch)"
   ]
  },
  {
   "cell_type": "code",
   "execution_count": 16,
   "metadata": {},
   "outputs": [
    {
     "data": {
      "text/plain": [
       "torch.optim.optimizer.Optimizer"
      ]
     },
     "execution_count": 16,
     "metadata": {},
     "output_type": "execute_result"
    }
   ],
   "source": [
    "torch.optim.Optimizer"
   ]
  },
  {
   "cell_type": "code",
   "execution_count": null,
   "metadata": {},
   "outputs": [],
   "source": []
  },
  {
   "cell_type": "code",
   "execution_count": 17,
   "metadata": {},
   "outputs": [
    {
     "data": {
      "text/plain": [
       "torch.optim.sgd.SGD"
      ]
     },
     "execution_count": 17,
     "metadata": {},
     "output_type": "execute_result"
    }
   ],
   "source": [
    "type(optimizer)"
   ]
  },
  {
   "cell_type": "code",
   "execution_count": 18,
   "metadata": {},
   "outputs": [
    {
     "data": {
      "text/plain": [
       "True"
      ]
     },
     "execution_count": 18,
     "metadata": {},
     "output_type": "execute_result"
    }
   ],
   "source": [
    "isinstance(optimizer, torch.optim.SGD)"
   ]
  },
  {
   "cell_type": "code",
   "execution_count": 19,
   "metadata": {},
   "outputs": [
    {
     "data": {
      "text/plain": [
       "True"
      ]
     },
     "execution_count": 19,
     "metadata": {},
     "output_type": "execute_result"
    }
   ],
   "source": [
    "issubclass(type(optimizer), torch.optim.Optimizer)"
   ]
  },
  {
   "cell_type": "code",
   "execution_count": null,
   "metadata": {},
   "outputs": [],
   "source": []
  },
  {
   "cell_type": "code",
   "execution_count": null,
   "metadata": {},
   "outputs": [],
   "source": []
  }
 ],
 "metadata": {
  "kernelspec": {
   "display_name": "Python 3",
   "language": "python",
   "name": "python3"
  },
  "language_info": {
   "codemirror_mode": {
    "name": "ipython",
    "version": 3
   },
   "file_extension": ".py",
   "mimetype": "text/x-python",
   "name": "python",
   "nbconvert_exporter": "python",
   "pygments_lexer": "ipython3",
   "version": "3.7.2"
  }
 },
 "nbformat": 4,
 "nbformat_minor": 2
}
