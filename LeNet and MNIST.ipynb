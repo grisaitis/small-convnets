{
 "cells": [
  {
   "cell_type": "markdown",
   "metadata": {},
   "source": [
    "### Links\n",
    "- PyTorch MNIST example - https://github.com/pytorch/examples/blob/master/mnist/main.py\n",
    "- pytorch cifar10 code - https://github.com/kuangliu/pytorch-cifar/blob/master/main.py\n",
    "- LeNet for CIFAR-10 - https://github.com/kuangliu/pytorch-cifar/blob/master/models/lenet.py\n",
    "\n",
    "My Google Doc - https://docs.google.com/document/d/1nPvFULraomLmBp4IuNVe51YXV1DQsSzgQWtuaZhbkjo/edit\n",
    "Trello - https://docs.google.com/document/d/1nPvFULraomLmBp4IuNVe51YXV1DQsSzgQWtuaZhbkjo/edit\n",
    "Using webcam - https://docs.google.com/document/d/17BVx5yioNaV11mip4U9gRAO7wLIJf-aOpIITJPjqeks/edit#\n",
    "Installing pytorch - https://docs.google.com/document/d/1NfLbuhoOxonzS9FEeooyqpB90-62Gat-uZ2DOTaWRdg/edit#\n"
   ]
  },
  {
   "cell_type": "code",
   "execution_count": 1,
   "metadata": {},
   "outputs": [],
   "source": [
    "import argparse\n",
    "import math\n",
    "\n",
    "import torch\n",
    "import torch.nn as nn\n",
    "import torch.nn.functional as F\n",
    "import torch.optim as optim\n",
    "from torchvision import datasets, transforms"
   ]
  },
  {
   "cell_type": "code",
   "execution_count": 2,
   "metadata": {},
   "outputs": [
    {
     "name": "stdout",
     "output_type": "stream",
     "text": [
      "1.0.1.post2\n",
      "/Users/william/.local/share/virtualenvs/william-oBc2a6gD/lib/python3.7/site-packages/torch/__init__.py\n"
     ]
    }
   ],
   "source": [
    "print(torch.__version__)\n",
    "print(torch.__file__)"
   ]
  },
  {
   "cell_type": "code",
   "execution_count": 3,
   "metadata": {},
   "outputs": [],
   "source": [
    "class Net(nn.Module):\n",
    "    def __init__(self):\n",
    "        super(Net, self).__init__()\n",
    "        self.conv1 = nn.Conv2d(1, 6, 5, 1, padding=2)  # in_channels, out_channels, kernel_size, stride\n",
    "        self.conv2 = nn.Conv2d(6, 16, 5, 1)\n",
    "        self.fc1 = nn.Linear(16 * 5 * 5, 120)  # in_features, out_features\n",
    "        self.fc2 = nn.Linear(120, 84)\n",
    "        self.fc3 = nn.Linear(84, 10)\n",
    "\n",
    "    def forward(self, x):\n",
    "        x = F.relu(self.conv1(x))\n",
    "        x = F.avg_pool2d(x, 2, 2)  # input, kernel_size, stride\n",
    "        x = F.relu(self.conv2(x))\n",
    "        x = F.avg_pool2d(x, 2, 2)\n",
    "        # reshape for fully connected layers...\n",
    "#         print(x.size())\n",
    "        x = x.view(-1, 16*5*5)  # what's the shape after this? 1 x 400?\n",
    "#         print(x.size())\n",
    "        x = F.relu(self.fc1(x))\n",
    "#         print(x.size())\n",
    "        x = F.relu(self.fc2(x))\n",
    "#         print(x.size())\n",
    "        x = self.fc3(x)\n",
    "#         print(x.size())\n",
    "        x = F.log_softmax(x, dim=1)\n",
    "#         print(x.size())\n",
    "        return x\n"
   ]
  },
  {
   "cell_type": "code",
   "execution_count": 4,
   "metadata": {},
   "outputs": [
    {
     "data": {
      "text/plain": [
       "_StoreAction(option_strings=['--log-interval'], dest='log_interval', nargs=None, const=None, default=10, type=<class 'int'>, choices=None, help='how many batches to wait before logging training status', metavar='N')"
      ]
     },
     "execution_count": 4,
     "metadata": {},
     "output_type": "execute_result"
    }
   ],
   "source": [
    "parser = argparse.ArgumentParser(description='PyTorch MNIST Example')\n",
    "parser.add_argument('--batch-size', type=int, default=64, metavar='N',\n",
    "                        help='input batch size for training (default: 64)')\n",
    "parser.add_argument('--test-batch-size', type=int, default=1000, metavar='N',\n",
    "                    help='input batch size for testing (default: 1000)')\n",
    "parser.add_argument('--epochs', type=int, default=10, metavar='N',\n",
    "                    help='number of epochs to train (default: 10)')\n",
    "parser.add_argument('--lr', type=float, default=0.01, metavar='LR',\n",
    "                    help='learning rate (default: 0.01)')\n",
    "parser.add_argument('--momentum', type=float, default=0.5, metavar='M',\n",
    "                    help='SGD momentum (default: 0.5)')\n",
    "parser.add_argument('--no-cuda', action='store_true', default=False,\n",
    "                    help='disables CUDA training')\n",
    "parser.add_argument('--seed', type=int, default=1, metavar='S',\n",
    "                    help='random seed (default: 1)')\n",
    "parser.add_argument('--log-interval', type=int, default=10, metavar='N',\n",
    "                    help='how many batches to wait before logging training status')\n"
   ]
  },
  {
   "cell_type": "code",
   "execution_count": null,
   "metadata": {},
   "outputs": [
    {
     "data": {
      "text/plain": [
       "Namespace(batch_size=64, epochs=100, log_interval=10, lr=0.01, momentum=0.5, no_cuda=False, seed=1, test_batch_size=1000)"
      ]
     },
     "execution_count": 5,
     "metadata": {},
     "output_type": "execute_result"
    }
   ],
   "source": [
    "args = parser.parse_args(args=[\"--epochs=100\"])\n",
    "args"
   ]
  },
  {
   "cell_type": "code",
   "execution_count": null,
   "metadata": {},
   "outputs": [
    {
     "data": {
      "text/plain": [
       "False"
      ]
     },
     "execution_count": 6,
     "metadata": {},
     "output_type": "execute_result"
    }
   ],
   "source": [
    "use_cuda = not args.no_cuda and torch.cuda.is_available()\n",
    "use_cuda"
   ]
  },
  {
   "cell_type": "code",
   "execution_count": null,
   "metadata": {},
   "outputs": [
    {
     "data": {
      "text/plain": [
       "<torch._C.Generator at 0x1108f51f0>"
      ]
     },
     "execution_count": 7,
     "metadata": {},
     "output_type": "execute_result"
    }
   ],
   "source": [
    "torch.manual_seed(args.seed)"
   ]
  },
  {
   "cell_type": "code",
   "execution_count": null,
   "metadata": {},
   "outputs": [
    {
     "data": {
      "text/plain": [
       "device(type='cpu')"
      ]
     },
     "execution_count": 8,
     "metadata": {},
     "output_type": "execute_result"
    }
   ],
   "source": [
    "device = torch.device(\"cuda\" if use_cuda else \"cpu\")\n",
    "device"
   ]
  },
  {
   "cell_type": "code",
   "execution_count": null,
   "metadata": {},
   "outputs": [
    {
     "data": {
      "text/plain": [
       "{}"
      ]
     },
     "execution_count": 9,
     "metadata": {},
     "output_type": "execute_result"
    }
   ],
   "source": [
    "kwargs = {'num_workers': 1, 'pin_memory': True} if use_cuda else {}\n",
    "kwargs"
   ]
  },
  {
   "cell_type": "code",
   "execution_count": null,
   "metadata": {},
   "outputs": [],
   "source": [
    "train_loader = torch.utils.data.DataLoader(\n",
    "    datasets.MNIST('../data', train=True, download=True,\n",
    "                   transform=transforms.Compose([\n",
    "                       transforms.ToTensor(),\n",
    "                       transforms.Normalize((0.1307,), (0.3081,))\n",
    "                   ])),\n",
    "    batch_size=args.batch_size, shuffle=True, **kwargs)\n",
    "\n",
    "test_loader = torch.utils.data.DataLoader(\n",
    "    datasets.MNIST('../data', train=False, transform=transforms.Compose([\n",
    "                       transforms.ToTensor(),\n",
    "                       transforms.Normalize((0.1307,), (0.3081,))\n",
    "                   ])),\n",
    "    batch_size=args.test_batch_size, shuffle=True, **kwargs)\n"
   ]
  },
  {
   "cell_type": "code",
   "execution_count": null,
   "metadata": {},
   "outputs": [
    {
     "data": {
      "text/plain": [
       "Net(\n",
       "  (conv1): Conv2d(1, 6, kernel_size=(5, 5), stride=(1, 1), padding=(2, 2))\n",
       "  (conv2): Conv2d(6, 16, kernel_size=(5, 5), stride=(1, 1))\n",
       "  (fc1): Linear(in_features=400, out_features=120, bias=True)\n",
       "  (fc2): Linear(in_features=120, out_features=84, bias=True)\n",
       "  (fc3): Linear(in_features=84, out_features=10, bias=True)\n",
       ")"
      ]
     },
     "execution_count": 11,
     "metadata": {},
     "output_type": "execute_result"
    }
   ],
   "source": [
    "model = Net().to(device)\n",
    "model"
   ]
  },
  {
   "cell_type": "code",
   "execution_count": null,
   "metadata": {},
   "outputs": [
    {
     "data": {
      "text/plain": [
       "SGD (\n",
       "Parameter Group 0\n",
       "    dampening: 0\n",
       "    lr: 0.01\n",
       "    momentum: 0.5\n",
       "    nesterov: False\n",
       "    weight_decay: 0\n",
       ")"
      ]
     },
     "execution_count": 12,
     "metadata": {},
     "output_type": "execute_result"
    }
   ],
   "source": [
    "optimizer = optim.SGD(model.parameters(), lr=args.lr, momentum=args.momentum)\n",
    "optimizer"
   ]
  },
  {
   "cell_type": "code",
   "execution_count": null,
   "metadata": {},
   "outputs": [],
   "source": [
    "def train(args, model, device, train_loader, optimizer, epoch):\n",
    "    model.train()\n",
    "    for batch_idx, (data, target) in enumerate(train_loader):\n",
    "        data, target = data.to(device), target.to(device)  # to do: needed?\n",
    "        optimizer.zero_grad()  # what does this do? zero-out any previous gradient info?\n",
    "        output = model(data)\n",
    "        loss = F.nll_loss(output, target)\n",
    "        loss.backward()\n",
    "        optimizer.step()\n",
    "        if batch_idx % args.log_interval == 0:\n",
    "            digits = int(math.log10(len(train_loader.dataset))) + 1\n",
    "            print('Train Epoch: {} [{:05d}/{:05d} ({:02.0f}%)]\\tLoss: {:.6f}'.format(\n",
    "                epoch, batch_idx * len(data), len(train_loader.dataset),\n",
    "                100. * batch_idx / len(train_loader), loss.item()))\n",
    "\n",
    "\n",
    "def test(args, model, device, test_loader):\n",
    "    model.eval()\n",
    "    test_loss = 0\n",
    "    correct = 0\n",
    "    with torch.no_grad():\n",
    "        for data, target in test_loader:\n",
    "            data, target = data.to(device), target.to(device)\n",
    "            output = model(data)\n",
    "            test_loss += F.nll_loss(output, target, reduction='sum').item() # sum up batch loss\n",
    "            pred = output.argmax(dim=1, keepdim=True) # get the index of the max log-probability\n",
    "            correct += pred.eq(target.view_as(pred)).sum().item()\n",
    "\n",
    "    test_loss /= len(test_loader.dataset)\n",
    "\n",
    "    print('\\nTest set: Average loss: {:.4f}, Accuracy: {}/{} ({:.0f}%)\\n'.format(\n",
    "        test_loss, correct, len(test_loader.dataset),\n",
    "        100. * correct / len(test_loader.dataset)))\n",
    "            "
   ]
  },
  {
   "cell_type": "code",
   "execution_count": null,
   "metadata": {
    "scrolled": false
   },
   "outputs": [
    {
     "name": "stdout",
     "output_type": "stream",
     "text": [
      "Train Epoch: 1 [00000/60000 (00%)]\tLoss: 2.307516\n",
      "Train Epoch: 1 [00640/60000 (01%)]\tLoss: 2.302698\n",
      "Train Epoch: 1 [01280/60000 (02%)]\tLoss: 2.306925\n",
      "Train Epoch: 1 [01920/60000 (03%)]\tLoss: 2.290555\n",
      "Train Epoch: 1 [02560/60000 (04%)]\tLoss: 2.293198\n",
      "Train Epoch: 1 [03200/60000 (05%)]\tLoss: 2.283789\n",
      "Train Epoch: 1 [03840/60000 (06%)]\tLoss: 2.281834\n",
      "Train Epoch: 1 [04480/60000 (07%)]\tLoss: 2.294910\n",
      "Train Epoch: 1 [05120/60000 (09%)]\tLoss: 2.288762\n",
      "Train Epoch: 1 [05760/60000 (10%)]\tLoss: 2.284253\n",
      "Train Epoch: 1 [06400/60000 (11%)]\tLoss: 2.284108\n",
      "Train Epoch: 1 [07040/60000 (12%)]\tLoss: 2.283559\n",
      "Train Epoch: 1 [07680/60000 (13%)]\tLoss: 2.267116\n",
      "Train Epoch: 1 [08320/60000 (14%)]\tLoss: 2.251754\n",
      "Train Epoch: 1 [08960/60000 (15%)]\tLoss: 2.268226\n",
      "Train Epoch: 1 [09600/60000 (16%)]\tLoss: 2.227675\n",
      "Train Epoch: 1 [10240/60000 (17%)]\tLoss: 2.209589\n",
      "Train Epoch: 1 [10880/60000 (18%)]\tLoss: 2.180263\n",
      "Train Epoch: 1 [11520/60000 (19%)]\tLoss: 2.187194\n",
      "Train Epoch: 1 [12160/60000 (20%)]\tLoss: 2.111264\n",
      "Train Epoch: 1 [12800/60000 (21%)]\tLoss: 2.124153\n",
      "Train Epoch: 1 [13440/60000 (22%)]\tLoss: 1.916350\n",
      "Train Epoch: 1 [14080/60000 (23%)]\tLoss: 1.813772\n",
      "Train Epoch: 1 [14720/60000 (25%)]\tLoss: 1.538842\n",
      "Train Epoch: 1 [15360/60000 (26%)]\tLoss: 1.249693\n",
      "Train Epoch: 1 [16000/60000 (27%)]\tLoss: 1.076622\n",
      "Train Epoch: 1 [16640/60000 (28%)]\tLoss: 0.882737\n",
      "Train Epoch: 1 [17280/60000 (29%)]\tLoss: 0.780878\n",
      "Train Epoch: 1 [17920/60000 (30%)]\tLoss: 0.872091\n",
      "Train Epoch: 1 [18560/60000 (31%)]\tLoss: 0.687235\n",
      "Train Epoch: 1 [19200/60000 (32%)]\tLoss: 0.778434\n",
      "Train Epoch: 1 [19840/60000 (33%)]\tLoss: 0.939677\n",
      "Train Epoch: 1 [20480/60000 (34%)]\tLoss: 0.584820\n",
      "Train Epoch: 1 [21120/60000 (35%)]\tLoss: 0.592222\n",
      "Train Epoch: 1 [21760/60000 (36%)]\tLoss: 0.496744\n",
      "Train Epoch: 1 [22400/60000 (37%)]\tLoss: 0.496658\n",
      "Train Epoch: 1 [23040/60000 (38%)]\tLoss: 0.713317\n",
      "Train Epoch: 1 [23680/60000 (39%)]\tLoss: 0.450093\n",
      "Train Epoch: 1 [24320/60000 (41%)]\tLoss: 0.559208\n",
      "Train Epoch: 1 [24960/60000 (42%)]\tLoss: 0.469194\n",
      "Train Epoch: 1 [25600/60000 (43%)]\tLoss: 0.506706\n",
      "Train Epoch: 1 [26240/60000 (44%)]\tLoss: 0.327878\n",
      "Train Epoch: 1 [26880/60000 (45%)]\tLoss: 0.465615\n",
      "Train Epoch: 1 [27520/60000 (46%)]\tLoss: 0.337998\n",
      "Train Epoch: 1 [28160/60000 (47%)]\tLoss: 0.648143\n",
      "Train Epoch: 1 [28800/60000 (48%)]\tLoss: 0.495816\n",
      "Train Epoch: 1 [29440/60000 (49%)]\tLoss: 0.596485\n",
      "Train Epoch: 1 [30080/60000 (50%)]\tLoss: 0.531721\n",
      "Train Epoch: 1 [30720/60000 (51%)]\tLoss: 0.337657\n",
      "Train Epoch: 1 [31360/60000 (52%)]\tLoss: 0.449161\n",
      "Train Epoch: 1 [32000/60000 (53%)]\tLoss: 0.468191\n",
      "Train Epoch: 1 [32640/60000 (54%)]\tLoss: 0.480768\n",
      "Train Epoch: 1 [33280/60000 (55%)]\tLoss: 0.400018\n",
      "Train Epoch: 1 [33920/60000 (57%)]\tLoss: 0.234381\n",
      "Train Epoch: 1 [34560/60000 (58%)]\tLoss: 0.397232\n",
      "Train Epoch: 1 [35200/60000 (59%)]\tLoss: 0.472599\n",
      "Train Epoch: 1 [35840/60000 (60%)]\tLoss: 0.291097\n",
      "Train Epoch: 1 [36480/60000 (61%)]\tLoss: 0.515212\n",
      "Train Epoch: 1 [37120/60000 (62%)]\tLoss: 0.551340\n",
      "Train Epoch: 1 [37760/60000 (63%)]\tLoss: 0.465728\n",
      "Train Epoch: 1 [38400/60000 (64%)]\tLoss: 0.408425\n",
      "Train Epoch: 1 [39040/60000 (65%)]\tLoss: 0.344344\n",
      "Train Epoch: 1 [39680/60000 (66%)]\tLoss: 0.444639\n",
      "Train Epoch: 1 [40320/60000 (67%)]\tLoss: 0.382634\n",
      "Train Epoch: 1 [40960/60000 (68%)]\tLoss: 0.293636\n",
      "Train Epoch: 1 [41600/60000 (69%)]\tLoss: 0.311036\n",
      "Train Epoch: 1 [42240/60000 (70%)]\tLoss: 0.274444\n",
      "Train Epoch: 1 [42880/60000 (71%)]\tLoss: 0.466347\n",
      "Train Epoch: 1 [43520/60000 (72%)]\tLoss: 0.222902\n",
      "Train Epoch: 1 [44160/60000 (74%)]\tLoss: 0.200716\n",
      "Train Epoch: 1 [44800/60000 (75%)]\tLoss: 0.613041\n",
      "Train Epoch: 1 [45440/60000 (76%)]\tLoss: 0.389741\n",
      "Train Epoch: 1 [46080/60000 (77%)]\tLoss: 0.248332\n",
      "Train Epoch: 1 [46720/60000 (78%)]\tLoss: 0.250203\n",
      "Train Epoch: 1 [47360/60000 (79%)]\tLoss: 0.256587\n",
      "Train Epoch: 1 [48000/60000 (80%)]\tLoss: 0.400228\n",
      "Train Epoch: 1 [48640/60000 (81%)]\tLoss: 0.256516\n",
      "Train Epoch: 1 [49280/60000 (82%)]\tLoss: 0.293393\n",
      "Train Epoch: 1 [49920/60000 (83%)]\tLoss: 0.305292\n",
      "Train Epoch: 1 [50560/60000 (84%)]\tLoss: 0.265586\n",
      "Train Epoch: 1 [51200/60000 (85%)]\tLoss: 0.362238\n",
      "Train Epoch: 1 [51840/60000 (86%)]\tLoss: 0.405538\n",
      "Train Epoch: 1 [52480/60000 (87%)]\tLoss: 0.248368\n",
      "Train Epoch: 1 [53120/60000 (88%)]\tLoss: 0.300912\n",
      "Train Epoch: 1 [53760/60000 (90%)]\tLoss: 0.263091\n",
      "Train Epoch: 1 [54400/60000 (91%)]\tLoss: 0.379832\n",
      "Train Epoch: 1 [55040/60000 (92%)]\tLoss: 0.293312\n",
      "Train Epoch: 1 [55680/60000 (93%)]\tLoss: 0.191586\n",
      "Train Epoch: 1 [56320/60000 (94%)]\tLoss: 0.350897\n",
      "Train Epoch: 1 [56960/60000 (95%)]\tLoss: 0.396957\n",
      "Train Epoch: 1 [57600/60000 (96%)]\tLoss: 0.244711\n",
      "Train Epoch: 1 [58240/60000 (97%)]\tLoss: 0.167089\n",
      "Train Epoch: 1 [58880/60000 (98%)]\tLoss: 0.310758\n",
      "Train Epoch: 1 [59520/60000 (99%)]\tLoss: 0.296754\n",
      "\n",
      "Test set: Average loss: 0.2790, Accuracy: 9130/10000 (91%)\n",
      "\n",
      "Train Epoch: 2 [00000/60000 (00%)]\tLoss: 0.227296\n",
      "Train Epoch: 2 [00640/60000 (01%)]\tLoss: 0.314467\n",
      "Train Epoch: 2 [01280/60000 (02%)]\tLoss: 0.194786\n",
      "Train Epoch: 2 [01920/60000 (03%)]\tLoss: 0.411545\n",
      "Train Epoch: 2 [02560/60000 (04%)]\tLoss: 0.344952\n",
      "Train Epoch: 2 [03200/60000 (05%)]\tLoss: 0.250667\n",
      "Train Epoch: 2 [03840/60000 (06%)]\tLoss: 0.453510\n",
      "Train Epoch: 2 [04480/60000 (07%)]\tLoss: 0.194604\n",
      "Train Epoch: 2 [05120/60000 (09%)]\tLoss: 0.288821\n",
      "Train Epoch: 2 [05760/60000 (10%)]\tLoss: 0.196702\n",
      "Train Epoch: 2 [06400/60000 (11%)]\tLoss: 0.514940\n",
      "Train Epoch: 2 [07040/60000 (12%)]\tLoss: 0.095657\n",
      "Train Epoch: 2 [07680/60000 (13%)]\tLoss: 0.228551\n",
      "Train Epoch: 2 [08320/60000 (14%)]\tLoss: 0.301319\n",
      "Train Epoch: 2 [08960/60000 (15%)]\tLoss: 0.342445\n",
      "Train Epoch: 2 [09600/60000 (16%)]\tLoss: 0.171371\n",
      "Train Epoch: 2 [10240/60000 (17%)]\tLoss: 0.286197\n",
      "Train Epoch: 2 [10880/60000 (18%)]\tLoss: 0.196096\n",
      "Train Epoch: 2 [11520/60000 (19%)]\tLoss: 0.460655\n",
      "Train Epoch: 2 [12160/60000 (20%)]\tLoss: 0.235090\n",
      "Train Epoch: 2 [12800/60000 (21%)]\tLoss: 0.435600\n",
      "Train Epoch: 2 [13440/60000 (22%)]\tLoss: 0.291401\n",
      "Train Epoch: 2 [14080/60000 (23%)]\tLoss: 0.163005\n",
      "Train Epoch: 2 [14720/60000 (25%)]\tLoss: 0.303559\n",
      "Train Epoch: 2 [15360/60000 (26%)]\tLoss: 0.128511\n",
      "Train Epoch: 2 [16000/60000 (27%)]\tLoss: 0.314328\n",
      "Train Epoch: 2 [16640/60000 (28%)]\tLoss: 0.198434\n",
      "Train Epoch: 2 [17280/60000 (29%)]\tLoss: 0.347920\n",
      "Train Epoch: 2 [17920/60000 (30%)]\tLoss: 0.243194\n",
      "Train Epoch: 2 [18560/60000 (31%)]\tLoss: 0.206194\n",
      "Train Epoch: 2 [19200/60000 (32%)]\tLoss: 0.491587\n",
      "Train Epoch: 2 [19840/60000 (33%)]\tLoss: 0.271447\n",
      "Train Epoch: 2 [20480/60000 (34%)]\tLoss: 0.135054\n",
      "Train Epoch: 2 [21120/60000 (35%)]\tLoss: 0.299324\n",
      "Train Epoch: 2 [21760/60000 (36%)]\tLoss: 0.240081\n",
      "Train Epoch: 2 [22400/60000 (37%)]\tLoss: 0.132374\n",
      "Train Epoch: 2 [23040/60000 (38%)]\tLoss: 0.259284\n",
      "Train Epoch: 2 [23680/60000 (39%)]\tLoss: 0.204490\n",
      "Train Epoch: 2 [24320/60000 (41%)]\tLoss: 0.240192\n",
      "Train Epoch: 2 [24960/60000 (42%)]\tLoss: 0.141446\n",
      "Train Epoch: 2 [25600/60000 (43%)]\tLoss: 0.246401\n",
      "Train Epoch: 2 [26240/60000 (44%)]\tLoss: 0.341863\n",
      "Train Epoch: 2 [26880/60000 (45%)]\tLoss: 0.199440\n",
      "Train Epoch: 2 [27520/60000 (46%)]\tLoss: 0.319175\n",
      "Train Epoch: 2 [28160/60000 (47%)]\tLoss: 0.267551\n",
      "Train Epoch: 2 [28800/60000 (48%)]\tLoss: 0.311831\n",
      "Train Epoch: 2 [29440/60000 (49%)]\tLoss: 0.093919\n",
      "Train Epoch: 2 [30080/60000 (50%)]\tLoss: 0.246394\n",
      "Train Epoch: 2 [30720/60000 (51%)]\tLoss: 0.160168\n",
      "Train Epoch: 2 [31360/60000 (52%)]\tLoss: 0.177849\n",
      "Train Epoch: 2 [32000/60000 (53%)]\tLoss: 0.263863\n",
      "Train Epoch: 2 [32640/60000 (54%)]\tLoss: 0.140703\n",
      "Train Epoch: 2 [33280/60000 (55%)]\tLoss: 0.317541\n",
      "Train Epoch: 2 [33920/60000 (57%)]\tLoss: 0.214238\n",
      "Train Epoch: 2 [34560/60000 (58%)]\tLoss: 0.127125\n",
      "Train Epoch: 2 [35200/60000 (59%)]\tLoss: 0.199789\n",
      "Train Epoch: 2 [35840/60000 (60%)]\tLoss: 0.105513\n",
      "Train Epoch: 2 [36480/60000 (61%)]\tLoss: 0.158383\n",
      "Train Epoch: 2 [37120/60000 (62%)]\tLoss: 0.135136\n",
      "Train Epoch: 2 [37760/60000 (63%)]\tLoss: 0.234341\n",
      "Train Epoch: 2 [38400/60000 (64%)]\tLoss: 0.183773\n",
      "Train Epoch: 2 [39040/60000 (65%)]\tLoss: 0.200519\n",
      "Train Epoch: 2 [39680/60000 (66%)]\tLoss: 0.310577\n",
      "Train Epoch: 2 [40320/60000 (67%)]\tLoss: 0.244329\n",
      "Train Epoch: 2 [40960/60000 (68%)]\tLoss: 0.099107\n",
      "Train Epoch: 2 [41600/60000 (69%)]\tLoss: 0.136338\n",
      "Train Epoch: 2 [42240/60000 (70%)]\tLoss: 0.361773\n",
      "Train Epoch: 2 [42880/60000 (71%)]\tLoss: 0.117047\n",
      "Train Epoch: 2 [43520/60000 (72%)]\tLoss: 0.250548\n"
     ]
    },
    {
     "name": "stdout",
     "output_type": "stream",
     "text": [
      "Train Epoch: 2 [44160/60000 (74%)]\tLoss: 0.095184\n",
      "Train Epoch: 2 [44800/60000 (75%)]\tLoss: 0.237732\n",
      "Train Epoch: 2 [45440/60000 (76%)]\tLoss: 0.130255\n",
      "Train Epoch: 2 [46080/60000 (77%)]\tLoss: 0.107744\n",
      "Train Epoch: 2 [46720/60000 (78%)]\tLoss: 0.161814\n",
      "Train Epoch: 2 [47360/60000 (79%)]\tLoss: 0.147443\n",
      "Train Epoch: 2 [48000/60000 (80%)]\tLoss: 0.335210\n",
      "Train Epoch: 2 [48640/60000 (81%)]\tLoss: 0.195709\n",
      "Train Epoch: 2 [49280/60000 (82%)]\tLoss: 0.197350\n",
      "Train Epoch: 2 [49920/60000 (83%)]\tLoss: 0.206623\n",
      "Train Epoch: 2 [50560/60000 (84%)]\tLoss: 0.086560\n",
      "Train Epoch: 2 [51200/60000 (85%)]\tLoss: 0.119120\n",
      "Train Epoch: 2 [51840/60000 (86%)]\tLoss: 0.247234\n",
      "Train Epoch: 2 [52480/60000 (87%)]\tLoss: 0.530244\n",
      "Train Epoch: 2 [53120/60000 (88%)]\tLoss: 0.139992\n",
      "Train Epoch: 2 [53760/60000 (90%)]\tLoss: 0.066490\n",
      "Train Epoch: 2 [54400/60000 (91%)]\tLoss: 0.147412\n",
      "Train Epoch: 2 [55040/60000 (92%)]\tLoss: 0.117429\n",
      "Train Epoch: 2 [55680/60000 (93%)]\tLoss: 0.167895\n",
      "Train Epoch: 2 [56320/60000 (94%)]\tLoss: 0.081822\n",
      "Train Epoch: 2 [56960/60000 (95%)]\tLoss: 0.297880\n",
      "Train Epoch: 2 [57600/60000 (96%)]\tLoss: 0.171251\n",
      "Train Epoch: 2 [58240/60000 (97%)]\tLoss: 0.351353\n",
      "Train Epoch: 2 [58880/60000 (98%)]\tLoss: 0.160466\n",
      "Train Epoch: 2 [59520/60000 (99%)]\tLoss: 0.215087\n",
      "\n",
      "Test set: Average loss: 0.1581, Accuracy: 9517/10000 (95%)\n",
      "\n",
      "Train Epoch: 3 [00000/60000 (00%)]\tLoss: 0.249392\n",
      "Train Epoch: 3 [00640/60000 (01%)]\tLoss: 0.128874\n",
      "Train Epoch: 3 [01280/60000 (02%)]\tLoss: 0.242701\n",
      "Train Epoch: 3 [01920/60000 (03%)]\tLoss: 0.099283\n",
      "Train Epoch: 3 [02560/60000 (04%)]\tLoss: 0.141061\n",
      "Train Epoch: 3 [03200/60000 (05%)]\tLoss: 0.180538\n",
      "Train Epoch: 3 [03840/60000 (06%)]\tLoss: 0.150010\n",
      "Train Epoch: 3 [04480/60000 (07%)]\tLoss: 0.102071\n",
      "Train Epoch: 3 [05120/60000 (09%)]\tLoss: 0.119640\n",
      "Train Epoch: 3 [05760/60000 (10%)]\tLoss: 0.479878\n",
      "Train Epoch: 3 [06400/60000 (11%)]\tLoss: 0.159548\n",
      "Train Epoch: 3 [07040/60000 (12%)]\tLoss: 0.145754\n",
      "Train Epoch: 3 [07680/60000 (13%)]\tLoss: 0.057064\n",
      "Train Epoch: 3 [08320/60000 (14%)]\tLoss: 0.133202\n",
      "Train Epoch: 3 [08960/60000 (15%)]\tLoss: 0.106040\n",
      "Train Epoch: 3 [09600/60000 (16%)]\tLoss: 0.261290\n",
      "Train Epoch: 3 [10240/60000 (17%)]\tLoss: 0.085744\n",
      "Train Epoch: 3 [10880/60000 (18%)]\tLoss: 0.169077\n",
      "Train Epoch: 3 [11520/60000 (19%)]\tLoss: 0.185262\n",
      "Train Epoch: 3 [12160/60000 (20%)]\tLoss: 0.067138\n",
      "Train Epoch: 3 [12800/60000 (21%)]\tLoss: 0.158956\n",
      "Train Epoch: 3 [13440/60000 (22%)]\tLoss: 0.062486\n",
      "Train Epoch: 3 [14080/60000 (23%)]\tLoss: 0.105042\n",
      "Train Epoch: 3 [14720/60000 (25%)]\tLoss: 0.195866\n",
      "Train Epoch: 3 [15360/60000 (26%)]\tLoss: 0.113929\n",
      "Train Epoch: 3 [16000/60000 (27%)]\tLoss: 0.103787\n",
      "Train Epoch: 3 [16640/60000 (28%)]\tLoss: 0.048909\n",
      "Train Epoch: 3 [17280/60000 (29%)]\tLoss: 0.154547\n",
      "Train Epoch: 3 [17920/60000 (30%)]\tLoss: 0.264700\n",
      "Train Epoch: 3 [18560/60000 (31%)]\tLoss: 0.105256\n",
      "Train Epoch: 3 [19200/60000 (32%)]\tLoss: 0.125697\n",
      "Train Epoch: 3 [19840/60000 (33%)]\tLoss: 0.032793\n",
      "Train Epoch: 3 [20480/60000 (34%)]\tLoss: 0.257501\n",
      "Train Epoch: 3 [21120/60000 (35%)]\tLoss: 0.071792\n",
      "Train Epoch: 3 [21760/60000 (36%)]\tLoss: 0.152361\n",
      "Train Epoch: 3 [22400/60000 (37%)]\tLoss: 0.157688\n",
      "Train Epoch: 3 [23040/60000 (38%)]\tLoss: 0.277919\n",
      "Train Epoch: 3 [23680/60000 (39%)]\tLoss: 0.262421\n",
      "Train Epoch: 3 [24320/60000 (41%)]\tLoss: 0.083575\n",
      "Train Epoch: 3 [24960/60000 (42%)]\tLoss: 0.116585\n",
      "Train Epoch: 3 [25600/60000 (43%)]\tLoss: 0.147802\n",
      "Train Epoch: 3 [26240/60000 (44%)]\tLoss: 0.152957\n",
      "Train Epoch: 3 [26880/60000 (45%)]\tLoss: 0.346907\n",
      "Train Epoch: 3 [27520/60000 (46%)]\tLoss: 0.189439\n",
      "Train Epoch: 3 [28160/60000 (47%)]\tLoss: 0.214150\n",
      "Train Epoch: 3 [28800/60000 (48%)]\tLoss: 0.106700\n",
      "Train Epoch: 3 [29440/60000 (49%)]\tLoss: 0.134080\n",
      "Train Epoch: 3 [30080/60000 (50%)]\tLoss: 0.058666\n",
      "Train Epoch: 3 [30720/60000 (51%)]\tLoss: 0.132745\n",
      "Train Epoch: 3 [31360/60000 (52%)]\tLoss: 0.038191\n",
      "Train Epoch: 3 [32000/60000 (53%)]\tLoss: 0.043324\n",
      "Train Epoch: 3 [32640/60000 (54%)]\tLoss: 0.069098\n",
      "Train Epoch: 3 [33280/60000 (55%)]\tLoss: 0.095371\n",
      "Train Epoch: 3 [33920/60000 (57%)]\tLoss: 0.213841\n",
      "Train Epoch: 3 [34560/60000 (58%)]\tLoss: 0.117055\n",
      "Train Epoch: 3 [35200/60000 (59%)]\tLoss: 0.136870\n",
      "Train Epoch: 3 [35840/60000 (60%)]\tLoss: 0.131538\n",
      "Train Epoch: 3 [36480/60000 (61%)]\tLoss: 0.207372\n",
      "Train Epoch: 3 [37120/60000 (62%)]\tLoss: 0.280857\n",
      "Train Epoch: 3 [37760/60000 (63%)]\tLoss: 0.205561\n",
      "Train Epoch: 3 [38400/60000 (64%)]\tLoss: 0.368185\n",
      "Train Epoch: 3 [39040/60000 (65%)]\tLoss: 0.075904\n",
      "Train Epoch: 3 [39680/60000 (66%)]\tLoss: 0.221402\n",
      "Train Epoch: 3 [40320/60000 (67%)]\tLoss: 0.134316\n",
      "Train Epoch: 3 [40960/60000 (68%)]\tLoss: 0.102578\n",
      "Train Epoch: 3 [41600/60000 (69%)]\tLoss: 0.227555\n",
      "Train Epoch: 3 [42240/60000 (70%)]\tLoss: 0.105243\n",
      "Train Epoch: 3 [42880/60000 (71%)]\tLoss: 0.099197\n",
      "Train Epoch: 3 [43520/60000 (72%)]\tLoss: 0.061585\n",
      "Train Epoch: 3 [44160/60000 (74%)]\tLoss: 0.179825\n",
      "Train Epoch: 3 [44800/60000 (75%)]\tLoss: 0.207661\n",
      "Train Epoch: 3 [45440/60000 (76%)]\tLoss: 0.099751\n",
      "Train Epoch: 3 [46080/60000 (77%)]\tLoss: 0.094221\n",
      "Train Epoch: 3 [46720/60000 (78%)]\tLoss: 0.143878\n",
      "Train Epoch: 3 [47360/60000 (79%)]\tLoss: 0.106176\n",
      "Train Epoch: 3 [48000/60000 (80%)]\tLoss: 0.075251\n",
      "Train Epoch: 3 [48640/60000 (81%)]\tLoss: 0.232281\n",
      "Train Epoch: 3 [49280/60000 (82%)]\tLoss: 0.128878\n",
      "Train Epoch: 3 [49920/60000 (83%)]\tLoss: 0.125080\n",
      "Train Epoch: 3 [50560/60000 (84%)]\tLoss: 0.192914\n",
      "Train Epoch: 3 [51200/60000 (85%)]\tLoss: 0.230269\n",
      "Train Epoch: 3 [51840/60000 (86%)]\tLoss: 0.249185\n",
      "Train Epoch: 3 [52480/60000 (87%)]\tLoss: 0.094263\n",
      "Train Epoch: 3 [53120/60000 (88%)]\tLoss: 0.212362\n",
      "Train Epoch: 3 [53760/60000 (90%)]\tLoss: 0.041381\n",
      "Train Epoch: 3 [54400/60000 (91%)]\tLoss: 0.099664\n",
      "Train Epoch: 3 [55040/60000 (92%)]\tLoss: 0.079233\n",
      "Train Epoch: 3 [55680/60000 (93%)]\tLoss: 0.117345\n",
      "Train Epoch: 3 [56320/60000 (94%)]\tLoss: 0.159864\n",
      "Train Epoch: 3 [56960/60000 (95%)]\tLoss: 0.166281\n",
      "Train Epoch: 3 [57600/60000 (96%)]\tLoss: 0.101181\n",
      "Train Epoch: 3 [58240/60000 (97%)]\tLoss: 0.123044\n",
      "Train Epoch: 3 [58880/60000 (98%)]\tLoss: 0.076840\n",
      "Train Epoch: 3 [59520/60000 (99%)]\tLoss: 0.019311\n",
      "\n",
      "Test set: Average loss: 0.1303, Accuracy: 9574/10000 (96%)\n",
      "\n",
      "Train Epoch: 4 [00000/60000 (00%)]\tLoss: 0.119448\n",
      "Train Epoch: 4 [00640/60000 (01%)]\tLoss: 0.183649\n",
      "Train Epoch: 4 [01280/60000 (02%)]\tLoss: 0.045835\n",
      "Train Epoch: 4 [01920/60000 (03%)]\tLoss: 0.070930\n",
      "Train Epoch: 4 [02560/60000 (04%)]\tLoss: 0.229147\n",
      "Train Epoch: 4 [03200/60000 (05%)]\tLoss: 0.177772\n",
      "Train Epoch: 4 [03840/60000 (06%)]\tLoss: 0.168843\n",
      "Train Epoch: 4 [04480/60000 (07%)]\tLoss: 0.165420\n",
      "Train Epoch: 4 [05120/60000 (09%)]\tLoss: 0.055649\n",
      "Train Epoch: 4 [05760/60000 (10%)]\tLoss: 0.139442\n",
      "Train Epoch: 4 [06400/60000 (11%)]\tLoss: 0.112865\n",
      "Train Epoch: 4 [07040/60000 (12%)]\tLoss: 0.132508\n",
      "Train Epoch: 4 [07680/60000 (13%)]\tLoss: 0.051507\n",
      "Train Epoch: 4 [08320/60000 (14%)]\tLoss: 0.211379\n",
      "Train Epoch: 4 [08960/60000 (15%)]\tLoss: 0.043580\n",
      "Train Epoch: 4 [09600/60000 (16%)]\tLoss: 0.057537\n",
      "Train Epoch: 4 [10240/60000 (17%)]\tLoss: 0.109079\n",
      "Train Epoch: 4 [10880/60000 (18%)]\tLoss: 0.107856\n",
      "Train Epoch: 4 [11520/60000 (19%)]\tLoss: 0.087458\n",
      "Train Epoch: 4 [12160/60000 (20%)]\tLoss: 0.089381\n",
      "Train Epoch: 4 [12800/60000 (21%)]\tLoss: 0.083223\n",
      "Train Epoch: 4 [13440/60000 (22%)]\tLoss: 0.068769\n",
      "Train Epoch: 4 [14080/60000 (23%)]\tLoss: 0.066893\n",
      "Train Epoch: 4 [14720/60000 (25%)]\tLoss: 0.017671\n",
      "Train Epoch: 4 [15360/60000 (26%)]\tLoss: 0.187640\n",
      "Train Epoch: 4 [16000/60000 (27%)]\tLoss: 0.031281\n",
      "Train Epoch: 4 [16640/60000 (28%)]\tLoss: 0.110415\n",
      "Train Epoch: 4 [17280/60000 (29%)]\tLoss: 0.165835\n",
      "Train Epoch: 4 [17920/60000 (30%)]\tLoss: 0.149886\n",
      "Train Epoch: 4 [18560/60000 (31%)]\tLoss: 0.098659\n",
      "Train Epoch: 4 [19200/60000 (32%)]\tLoss: 0.092491\n",
      "Train Epoch: 4 [19840/60000 (33%)]\tLoss: 0.103770\n",
      "Train Epoch: 4 [20480/60000 (34%)]\tLoss: 0.054597\n",
      "Train Epoch: 4 [21120/60000 (35%)]\tLoss: 0.094354\n",
      "Train Epoch: 4 [21760/60000 (36%)]\tLoss: 0.197630\n",
      "Train Epoch: 4 [22400/60000 (37%)]\tLoss: 0.080383\n",
      "Train Epoch: 4 [23040/60000 (38%)]\tLoss: 0.060971\n",
      "Train Epoch: 4 [23680/60000 (39%)]\tLoss: 0.123051\n",
      "Train Epoch: 4 [24320/60000 (41%)]\tLoss: 0.096335\n",
      "Train Epoch: 4 [24960/60000 (42%)]\tLoss: 0.088037\n",
      "Train Epoch: 4 [25600/60000 (43%)]\tLoss: 0.134769\n",
      "Train Epoch: 4 [26240/60000 (44%)]\tLoss: 0.226604\n",
      "Train Epoch: 4 [26880/60000 (45%)]\tLoss: 0.047320\n"
     ]
    },
    {
     "name": "stdout",
     "output_type": "stream",
     "text": [
      "Train Epoch: 4 [27520/60000 (46%)]\tLoss: 0.063579\n",
      "Train Epoch: 4 [28160/60000 (47%)]\tLoss: 0.128139\n",
      "Train Epoch: 4 [28800/60000 (48%)]\tLoss: 0.050154\n",
      "Train Epoch: 4 [29440/60000 (49%)]\tLoss: 0.110234\n",
      "Train Epoch: 4 [30080/60000 (50%)]\tLoss: 0.093762\n",
      "Train Epoch: 4 [30720/60000 (51%)]\tLoss: 0.083698\n",
      "Train Epoch: 4 [31360/60000 (52%)]\tLoss: 0.234583\n",
      "Train Epoch: 4 [32000/60000 (53%)]\tLoss: 0.116438\n",
      "Train Epoch: 4 [32640/60000 (54%)]\tLoss: 0.082451\n",
      "Train Epoch: 4 [33280/60000 (55%)]\tLoss: 0.171975\n",
      "Train Epoch: 4 [33920/60000 (57%)]\tLoss: 0.107099\n",
      "Train Epoch: 4 [34560/60000 (58%)]\tLoss: 0.082182\n",
      "Train Epoch: 4 [35200/60000 (59%)]\tLoss: 0.112403\n",
      "Train Epoch: 4 [35840/60000 (60%)]\tLoss: 0.263242\n",
      "Train Epoch: 4 [36480/60000 (61%)]\tLoss: 0.093134\n",
      "Train Epoch: 4 [37120/60000 (62%)]\tLoss: 0.088393\n",
      "Train Epoch: 4 [37760/60000 (63%)]\tLoss: 0.171260\n",
      "Train Epoch: 4 [38400/60000 (64%)]\tLoss: 0.120603\n",
      "Train Epoch: 4 [39040/60000 (65%)]\tLoss: 0.075770\n",
      "Train Epoch: 4 [39680/60000 (66%)]\tLoss: 0.182563\n",
      "Train Epoch: 4 [40320/60000 (67%)]\tLoss: 0.019221\n",
      "Train Epoch: 4 [40960/60000 (68%)]\tLoss: 0.029016\n",
      "Train Epoch: 4 [41600/60000 (69%)]\tLoss: 0.108124\n",
      "Train Epoch: 4 [42240/60000 (70%)]\tLoss: 0.116733\n",
      "Train Epoch: 4 [42880/60000 (71%)]\tLoss: 0.142060\n",
      "Train Epoch: 4 [43520/60000 (72%)]\tLoss: 0.121354\n",
      "Train Epoch: 4 [44160/60000 (74%)]\tLoss: 0.149299\n",
      "Train Epoch: 4 [44800/60000 (75%)]\tLoss: 0.192948\n",
      "Train Epoch: 4 [45440/60000 (76%)]\tLoss: 0.176744\n",
      "Train Epoch: 4 [46080/60000 (77%)]\tLoss: 0.150743\n",
      "Train Epoch: 4 [46720/60000 (78%)]\tLoss: 0.156626\n",
      "Train Epoch: 4 [47360/60000 (79%)]\tLoss: 0.042092\n",
      "Train Epoch: 4 [48000/60000 (80%)]\tLoss: 0.032725\n",
      "Train Epoch: 4 [48640/60000 (81%)]\tLoss: 0.133919\n",
      "Train Epoch: 4 [49280/60000 (82%)]\tLoss: 0.246809\n"
     ]
    }
   ],
   "source": [
    "for epoch in range(1, args.epochs + 1):\n",
    "    train(args, model, device, train_loader, optimizer, epoch)\n",
    "    test(args, model, device, test_loader)\n"
   ]
  },
  {
   "cell_type": "code",
   "execution_count": null,
   "metadata": {},
   "outputs": [],
   "source": [
    "torch.optim.Optimizer"
   ]
  },
  {
   "cell_type": "code",
   "execution_count": null,
   "metadata": {},
   "outputs": [],
   "source": [
    "type(optimizer)"
   ]
  },
  {
   "cell_type": "code",
   "execution_count": null,
   "metadata": {},
   "outputs": [],
   "source": [
    "isinstance(optimizer, torch.optim.SGD)"
   ]
  },
  {
   "cell_type": "code",
   "execution_count": null,
   "metadata": {},
   "outputs": [],
   "source": [
    "issubclass(type(optimizer), torch.optim.Optimizer)"
   ]
  },
  {
   "cell_type": "code",
   "execution_count": null,
   "metadata": {},
   "outputs": [],
   "source": []
  },
  {
   "cell_type": "code",
   "execution_count": null,
   "metadata": {},
   "outputs": [],
   "source": []
  }
 ],
 "metadata": {
  "kernelspec": {
   "display_name": "Python 3",
   "language": "python",
   "name": "python3"
  },
  "language_info": {
   "codemirror_mode": {
    "name": "ipython",
    "version": 3
   },
   "file_extension": ".py",
   "mimetype": "text/x-python",
   "name": "python",
   "nbconvert_exporter": "python",
   "pygments_lexer": "ipython3",
   "version": "3.7.2"
  }
 },
 "nbformat": 4,
 "nbformat_minor": 2
}
